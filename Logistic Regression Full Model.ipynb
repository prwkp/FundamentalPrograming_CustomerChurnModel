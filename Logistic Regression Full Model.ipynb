{
 "cells": [
  {
   "cell_type": "code",
   "execution_count": 1,
   "id": "fccc55a9",
   "metadata": {},
   "outputs": [],
   "source": [
    "import pandas as pd\n",
    "import os\n",
    "import numpy as np"
   ]
  },
  {
   "cell_type": "code",
   "execution_count": 2,
   "id": "36bdc3e8",
   "metadata": {},
   "outputs": [
    {
     "data": {
      "text/html": [
       "<div>\n",
       "<style scoped>\n",
       "    .dataframe tbody tr th:only-of-type {\n",
       "        vertical-align: middle;\n",
       "    }\n",
       "\n",
       "    .dataframe tbody tr th {\n",
       "        vertical-align: top;\n",
       "    }\n",
       "\n",
       "    .dataframe thead th {\n",
       "        text-align: right;\n",
       "    }\n",
       "</style>\n",
       "<table border=\"1\" class=\"dataframe\">\n",
       "  <thead>\n",
       "    <tr style=\"text-align: right;\">\n",
       "      <th></th>\n",
       "      <th>CustomerID</th>\n",
       "      <th>Count</th>\n",
       "      <th>Country</th>\n",
       "      <th>State</th>\n",
       "      <th>City</th>\n",
       "      <th>Zip Code</th>\n",
       "      <th>Lat Long</th>\n",
       "      <th>Latitude</th>\n",
       "      <th>Longitude</th>\n",
       "      <th>Gender</th>\n",
       "      <th>...</th>\n",
       "      <th>Contract</th>\n",
       "      <th>Paperless Billing</th>\n",
       "      <th>Payment Method</th>\n",
       "      <th>Monthly Charges</th>\n",
       "      <th>Total Charges</th>\n",
       "      <th>Churn Label</th>\n",
       "      <th>Churn Value</th>\n",
       "      <th>Churn Score</th>\n",
       "      <th>CLTV</th>\n",
       "      <th>Churn Reason</th>\n",
       "    </tr>\n",
       "  </thead>\n",
       "  <tbody>\n",
       "    <tr>\n",
       "      <th>0</th>\n",
       "      <td>3668-QPYBK</td>\n",
       "      <td>1</td>\n",
       "      <td>United States</td>\n",
       "      <td>California</td>\n",
       "      <td>Los Angeles</td>\n",
       "      <td>90003</td>\n",
       "      <td>33.964131, -118.272783</td>\n",
       "      <td>33.964131</td>\n",
       "      <td>-118.272783</td>\n",
       "      <td>Male</td>\n",
       "      <td>...</td>\n",
       "      <td>Month-to-month</td>\n",
       "      <td>Yes</td>\n",
       "      <td>Mailed check</td>\n",
       "      <td>53.85</td>\n",
       "      <td>108.15</td>\n",
       "      <td>Yes</td>\n",
       "      <td>1</td>\n",
       "      <td>86</td>\n",
       "      <td>3239</td>\n",
       "      <td>Competitor made better offer</td>\n",
       "    </tr>\n",
       "    <tr>\n",
       "      <th>1</th>\n",
       "      <td>9237-HQITU</td>\n",
       "      <td>1</td>\n",
       "      <td>United States</td>\n",
       "      <td>California</td>\n",
       "      <td>Los Angeles</td>\n",
       "      <td>90005</td>\n",
       "      <td>34.059281, -118.30742</td>\n",
       "      <td>34.059281</td>\n",
       "      <td>-118.307420</td>\n",
       "      <td>Female</td>\n",
       "      <td>...</td>\n",
       "      <td>Month-to-month</td>\n",
       "      <td>Yes</td>\n",
       "      <td>Electronic check</td>\n",
       "      <td>70.70</td>\n",
       "      <td>151.65</td>\n",
       "      <td>Yes</td>\n",
       "      <td>1</td>\n",
       "      <td>67</td>\n",
       "      <td>2701</td>\n",
       "      <td>Moved</td>\n",
       "    </tr>\n",
       "    <tr>\n",
       "      <th>2</th>\n",
       "      <td>9305-CDSKC</td>\n",
       "      <td>1</td>\n",
       "      <td>United States</td>\n",
       "      <td>California</td>\n",
       "      <td>Los Angeles</td>\n",
       "      <td>90006</td>\n",
       "      <td>34.048013, -118.293953</td>\n",
       "      <td>34.048013</td>\n",
       "      <td>-118.293953</td>\n",
       "      <td>Female</td>\n",
       "      <td>...</td>\n",
       "      <td>Month-to-month</td>\n",
       "      <td>Yes</td>\n",
       "      <td>Electronic check</td>\n",
       "      <td>99.65</td>\n",
       "      <td>820.50</td>\n",
       "      <td>Yes</td>\n",
       "      <td>1</td>\n",
       "      <td>86</td>\n",
       "      <td>5372</td>\n",
       "      <td>Moved</td>\n",
       "    </tr>\n",
       "    <tr>\n",
       "      <th>3</th>\n",
       "      <td>7892-POOKP</td>\n",
       "      <td>1</td>\n",
       "      <td>United States</td>\n",
       "      <td>California</td>\n",
       "      <td>Los Angeles</td>\n",
       "      <td>90010</td>\n",
       "      <td>34.062125, -118.315709</td>\n",
       "      <td>34.062125</td>\n",
       "      <td>-118.315709</td>\n",
       "      <td>Female</td>\n",
       "      <td>...</td>\n",
       "      <td>Month-to-month</td>\n",
       "      <td>Yes</td>\n",
       "      <td>Electronic check</td>\n",
       "      <td>104.80</td>\n",
       "      <td>3046.05</td>\n",
       "      <td>Yes</td>\n",
       "      <td>1</td>\n",
       "      <td>84</td>\n",
       "      <td>5003</td>\n",
       "      <td>Moved</td>\n",
       "    </tr>\n",
       "    <tr>\n",
       "      <th>4</th>\n",
       "      <td>0280-XJGEX</td>\n",
       "      <td>1</td>\n",
       "      <td>United States</td>\n",
       "      <td>California</td>\n",
       "      <td>Los Angeles</td>\n",
       "      <td>90015</td>\n",
       "      <td>34.039224, -118.266293</td>\n",
       "      <td>34.039224</td>\n",
       "      <td>-118.266293</td>\n",
       "      <td>Male</td>\n",
       "      <td>...</td>\n",
       "      <td>Month-to-month</td>\n",
       "      <td>Yes</td>\n",
       "      <td>Bank transfer (automatic)</td>\n",
       "      <td>103.70</td>\n",
       "      <td>5036.30</td>\n",
       "      <td>Yes</td>\n",
       "      <td>1</td>\n",
       "      <td>89</td>\n",
       "      <td>5340</td>\n",
       "      <td>Competitor had better devices</td>\n",
       "    </tr>\n",
       "  </tbody>\n",
       "</table>\n",
       "<p>5 rows × 33 columns</p>\n",
       "</div>"
      ],
      "text/plain": [
       "   CustomerID  Count        Country       State         City Zip Code  \\\n",
       "0  3668-QPYBK      1  United States  California  Los Angeles    90003   \n",
       "1  9237-HQITU      1  United States  California  Los Angeles    90005   \n",
       "2  9305-CDSKC      1  United States  California  Los Angeles    90006   \n",
       "3  7892-POOKP      1  United States  California  Los Angeles    90010   \n",
       "4  0280-XJGEX      1  United States  California  Los Angeles    90015   \n",
       "\n",
       "                 Lat Long   Latitude   Longitude  Gender  ...        Contract  \\\n",
       "0  33.964131, -118.272783  33.964131 -118.272783    Male  ...  Month-to-month   \n",
       "1   34.059281, -118.30742  34.059281 -118.307420  Female  ...  Month-to-month   \n",
       "2  34.048013, -118.293953  34.048013 -118.293953  Female  ...  Month-to-month   \n",
       "3  34.062125, -118.315709  34.062125 -118.315709  Female  ...  Month-to-month   \n",
       "4  34.039224, -118.266293  34.039224 -118.266293    Male  ...  Month-to-month   \n",
       "\n",
       "  Paperless Billing             Payment Method  Monthly Charges Total Charges  \\\n",
       "0               Yes               Mailed check            53.85        108.15   \n",
       "1               Yes           Electronic check            70.70        151.65   \n",
       "2               Yes           Electronic check            99.65        820.50   \n",
       "3               Yes           Electronic check           104.80       3046.05   \n",
       "4               Yes  Bank transfer (automatic)           103.70       5036.30   \n",
       "\n",
       "  Churn Label Churn Value Churn Score  CLTV                   Churn Reason  \n",
       "0         Yes           1          86  3239   Competitor made better offer  \n",
       "1         Yes           1          67  2701                          Moved  \n",
       "2         Yes           1          86  5372                          Moved  \n",
       "3         Yes           1          84  5003                          Moved  \n",
       "4         Yes           1          89  5340  Competitor had better devices  \n",
       "\n",
       "[5 rows x 33 columns]"
      ]
     },
     "execution_count": 2,
     "metadata": {},
     "output_type": "execute_result"
    }
   ],
   "source": [
    "convertTable = dict()\n",
    "convertTable['Zip Code'] = str\n",
    "df = pd.read_csv ('Telco_customer_churn.csv', dtype = convertTable)\n",
    "df['Total Charges'] = pd.to_numeric(df['Total Charges'] , errors='coerce')\n",
    "df[df['Total Charges'].isnull()==True]\n",
    "df.head()"
   ]
  },
  {
   "cell_type": "markdown",
   "id": "4fb2c09b",
   "metadata": {},
   "source": [
    "### Missing Value "
   ]
  },
  {
   "cell_type": "code",
   "execution_count": 3,
   "id": "280057c3",
   "metadata": {},
   "outputs": [
    {
     "data": {
      "text/html": [
       "<div>\n",
       "<style scoped>\n",
       "    .dataframe tbody tr th:only-of-type {\n",
       "        vertical-align: middle;\n",
       "    }\n",
       "\n",
       "    .dataframe tbody tr th {\n",
       "        vertical-align: top;\n",
       "    }\n",
       "\n",
       "    .dataframe thead th {\n",
       "        text-align: right;\n",
       "    }\n",
       "</style>\n",
       "<table border=\"1\" class=\"dataframe\">\n",
       "  <thead>\n",
       "    <tr style=\"text-align: right;\">\n",
       "      <th></th>\n",
       "      <th>Missing Values</th>\n",
       "      <th>% of Missing Values</th>\n",
       "    </tr>\n",
       "  </thead>\n",
       "  <tbody>\n",
       "    <tr>\n",
       "      <th>Churn Reason</th>\n",
       "      <td>5174</td>\n",
       "      <td>73.5</td>\n",
       "    </tr>\n",
       "    <tr>\n",
       "      <th>Total Charges</th>\n",
       "      <td>11</td>\n",
       "      <td>0.2</td>\n",
       "    </tr>\n",
       "  </tbody>\n",
       "</table>\n",
       "</div>"
      ],
      "text/plain": [
       "               Missing Values  % of Missing Values\n",
       "Churn Reason             5174                 73.5\n",
       "Total Charges              11                  0.2"
      ]
     },
     "execution_count": 3,
     "metadata": {},
     "output_type": "execute_result"
    }
   ],
   "source": [
    "# Calculate the percentage of missing values \n",
    "missing_values = df.isnull().sum()\n",
    "missing_values_percentage = 100 * missing_values / len(df)\n",
    "missing_values_table = pd.concat([missing_values, missing_values_percentage], axis=1)\n",
    "missing_values_table = missing_values_table.rename(columns = {0 : 'Missing Values', 1 : '% of Missing Values'})\n",
    "missing_values_table = missing_values_table[missing_values_table.iloc[:,0] != 0].sort_values('% of Missing Values', ascending=False).round(1)\n",
    "missing_values_table"
   ]
  },
  {
   "cell_type": "code",
   "execution_count": 4,
   "id": "58853de0",
   "metadata": {},
   "outputs": [
    {
     "name": "stdout",
     "output_type": "stream",
     "text": [
      "<class 'pandas.core.frame.DataFrame'>\n",
      "Int64Index: 7032 entries, 0 to 7042\n",
      "Data columns (total 32 columns):\n",
      " #   Column             Non-Null Count  Dtype  \n",
      "---  ------             --------------  -----  \n",
      " 0   CustomerID         7032 non-null   object \n",
      " 1   Count              7032 non-null   int64  \n",
      " 2   Country            7032 non-null   object \n",
      " 3   State              7032 non-null   object \n",
      " 4   City               7032 non-null   object \n",
      " 5   Zip Code           7032 non-null   object \n",
      " 6   Lat Long           7032 non-null   object \n",
      " 7   Latitude           7032 non-null   float64\n",
      " 8   Longitude          7032 non-null   float64\n",
      " 9   Gender             7032 non-null   object \n",
      " 10  Senior Citizen     7032 non-null   object \n",
      " 11  Partner            7032 non-null   object \n",
      " 12  Dependents         7032 non-null   object \n",
      " 13  Tenure Months      7032 non-null   int64  \n",
      " 14  Phone Service      7032 non-null   object \n",
      " 15  Multiple Lines     7032 non-null   object \n",
      " 16  Internet Service   7032 non-null   object \n",
      " 17  Online Security    7032 non-null   object \n",
      " 18  Online Backup      7032 non-null   object \n",
      " 19  Device Protection  7032 non-null   object \n",
      " 20  Tech Support       7032 non-null   object \n",
      " 21  Streaming TV       7032 non-null   object \n",
      " 22  Streaming Movies   7032 non-null   object \n",
      " 23  Contract           7032 non-null   object \n",
      " 24  Paperless Billing  7032 non-null   object \n",
      " 25  Payment Method     7032 non-null   object \n",
      " 26  Monthly Charges    7032 non-null   float64\n",
      " 27  Total Charges      7032 non-null   float64\n",
      " 28  Churn Label        7032 non-null   object \n",
      " 29  Churn Value        7032 non-null   int64  \n",
      " 30  Churn Score        7032 non-null   int64  \n",
      " 31  CLTV               7032 non-null   int64  \n",
      "dtypes: float64(4), int64(5), object(23)\n",
      "memory usage: 1.8+ MB\n"
     ]
    }
   ],
   "source": [
    "# drop missing value\n",
    "df = df.drop(['Churn Reason'], axis=1)\n",
    "df.dropna(how = 'any', inplace = True)\n",
    "df.info()"
   ]
  },
  {
   "cell_type": "code",
   "execution_count": null,
   "id": "66f1be76",
   "metadata": {},
   "outputs": [],
   "source": []
  },
  {
   "cell_type": "markdown",
   "id": "fd0388b7",
   "metadata": {},
   "source": [
    "# Logistic Regression (Full Model)"
   ]
  },
  {
   "cell_type": "markdown",
   "id": "cff936b8",
   "metadata": {},
   "source": [
    "## 1. Prepare Data for Logistic Regression"
   ]
  },
  {
   "cell_type": "code",
   "execution_count": 5,
   "id": "26d51387",
   "metadata": {},
   "outputs": [],
   "source": [
    "import seaborn as sns\n",
    "import matplotlib.pyplot as plt\n",
    "from datetime import datetime\n",
    "from sklearn.model_selection import train_test_split\n",
    "from sklearn.linear_model import LogisticRegression\n",
    "from sklearn.metrics import confusion_matrix\n",
    "from sklearn.metrics import classification_report\n",
    "from sklearn.preprocessing import OneHotEncoder\n",
    "from sklearn.metrics import roc_auc_score\n",
    "from sklearn.metrics import roc_curve\n",
    "from sklearn.metrics import accuracy_score, confusion_matrix, classification_report\n",
    "from sklearn.metrics import precision_score\n",
    "from sklearn.metrics import recall_score\n",
    "from sklearn.metrics import f1_score\n",
    "from sklearn import preprocessing\n",
    "from sklearn.preprocessing import MinMaxScaler\n",
    "from sklearn.preprocessing import scale\n",
    "from sklearn.model_selection import LeaveOneOut\n",
    "from sklearn.model_selection import KFold\n",
    "from sklearn.model_selection import cross_val_score\n",
    "from sklearn.model_selection import learning_curve\n",
    "from numpy import mean\n",
    "# from imblearn.under_sampling import NearMiss\n",
    "from imblearn.over_sampling import SMOTE \n",
    "%matplotlib inline"
   ]
  },
  {
   "cell_type": "code",
   "execution_count": 6,
   "id": "5d0b2798",
   "metadata": {},
   "outputs": [
    {
     "data": {
      "text/html": [
       "<div>\n",
       "<style scoped>\n",
       "    .dataframe tbody tr th:only-of-type {\n",
       "        vertical-align: middle;\n",
       "    }\n",
       "\n",
       "    .dataframe tbody tr th {\n",
       "        vertical-align: top;\n",
       "    }\n",
       "\n",
       "    .dataframe thead th {\n",
       "        text-align: right;\n",
       "    }\n",
       "</style>\n",
       "<table border=\"1\" class=\"dataframe\">\n",
       "  <thead>\n",
       "    <tr style=\"text-align: right;\">\n",
       "      <th></th>\n",
       "      <th>Churn Value</th>\n",
       "      <th>Gender</th>\n",
       "      <th>Senior Citizen</th>\n",
       "      <th>Partner</th>\n",
       "      <th>Dependents</th>\n",
       "      <th>Tenure Months</th>\n",
       "      <th>Phone Service</th>\n",
       "      <th>Multiple Lines</th>\n",
       "      <th>Internet Service</th>\n",
       "      <th>Online Security</th>\n",
       "      <th>Online Backup</th>\n",
       "      <th>Device Protection</th>\n",
       "      <th>Tech Support</th>\n",
       "      <th>Streaming TV</th>\n",
       "      <th>Streaming Movies</th>\n",
       "      <th>Contract</th>\n",
       "      <th>Paperless Billing</th>\n",
       "      <th>Payment Method</th>\n",
       "      <th>Monthly Charges</th>\n",
       "      <th>Total Charges</th>\n",
       "    </tr>\n",
       "  </thead>\n",
       "  <tbody>\n",
       "    <tr>\n",
       "      <th>0</th>\n",
       "      <td>1</td>\n",
       "      <td>Male</td>\n",
       "      <td>No</td>\n",
       "      <td>No</td>\n",
       "      <td>No</td>\n",
       "      <td>2</td>\n",
       "      <td>Yes</td>\n",
       "      <td>No</td>\n",
       "      <td>DSL</td>\n",
       "      <td>Yes</td>\n",
       "      <td>Yes</td>\n",
       "      <td>No</td>\n",
       "      <td>No</td>\n",
       "      <td>No</td>\n",
       "      <td>No</td>\n",
       "      <td>Month-to-month</td>\n",
       "      <td>Yes</td>\n",
       "      <td>Mailed check</td>\n",
       "      <td>53.85</td>\n",
       "      <td>108.15</td>\n",
       "    </tr>\n",
       "    <tr>\n",
       "      <th>1</th>\n",
       "      <td>1</td>\n",
       "      <td>Female</td>\n",
       "      <td>No</td>\n",
       "      <td>No</td>\n",
       "      <td>Yes</td>\n",
       "      <td>2</td>\n",
       "      <td>Yes</td>\n",
       "      <td>No</td>\n",
       "      <td>Fiber optic</td>\n",
       "      <td>No</td>\n",
       "      <td>No</td>\n",
       "      <td>No</td>\n",
       "      <td>No</td>\n",
       "      <td>No</td>\n",
       "      <td>No</td>\n",
       "      <td>Month-to-month</td>\n",
       "      <td>Yes</td>\n",
       "      <td>Electronic check</td>\n",
       "      <td>70.70</td>\n",
       "      <td>151.65</td>\n",
       "    </tr>\n",
       "    <tr>\n",
       "      <th>2</th>\n",
       "      <td>1</td>\n",
       "      <td>Female</td>\n",
       "      <td>No</td>\n",
       "      <td>No</td>\n",
       "      <td>Yes</td>\n",
       "      <td>8</td>\n",
       "      <td>Yes</td>\n",
       "      <td>Yes</td>\n",
       "      <td>Fiber optic</td>\n",
       "      <td>No</td>\n",
       "      <td>No</td>\n",
       "      <td>Yes</td>\n",
       "      <td>No</td>\n",
       "      <td>Yes</td>\n",
       "      <td>Yes</td>\n",
       "      <td>Month-to-month</td>\n",
       "      <td>Yes</td>\n",
       "      <td>Electronic check</td>\n",
       "      <td>99.65</td>\n",
       "      <td>820.50</td>\n",
       "    </tr>\n",
       "    <tr>\n",
       "      <th>3</th>\n",
       "      <td>1</td>\n",
       "      <td>Female</td>\n",
       "      <td>No</td>\n",
       "      <td>Yes</td>\n",
       "      <td>Yes</td>\n",
       "      <td>28</td>\n",
       "      <td>Yes</td>\n",
       "      <td>Yes</td>\n",
       "      <td>Fiber optic</td>\n",
       "      <td>No</td>\n",
       "      <td>No</td>\n",
       "      <td>Yes</td>\n",
       "      <td>Yes</td>\n",
       "      <td>Yes</td>\n",
       "      <td>Yes</td>\n",
       "      <td>Month-to-month</td>\n",
       "      <td>Yes</td>\n",
       "      <td>Electronic check</td>\n",
       "      <td>104.80</td>\n",
       "      <td>3046.05</td>\n",
       "    </tr>\n",
       "    <tr>\n",
       "      <th>4</th>\n",
       "      <td>1</td>\n",
       "      <td>Male</td>\n",
       "      <td>No</td>\n",
       "      <td>No</td>\n",
       "      <td>Yes</td>\n",
       "      <td>49</td>\n",
       "      <td>Yes</td>\n",
       "      <td>Yes</td>\n",
       "      <td>Fiber optic</td>\n",
       "      <td>No</td>\n",
       "      <td>Yes</td>\n",
       "      <td>Yes</td>\n",
       "      <td>No</td>\n",
       "      <td>Yes</td>\n",
       "      <td>Yes</td>\n",
       "      <td>Month-to-month</td>\n",
       "      <td>Yes</td>\n",
       "      <td>Bank transfer (automatic)</td>\n",
       "      <td>103.70</td>\n",
       "      <td>5036.30</td>\n",
       "    </tr>\n",
       "  </tbody>\n",
       "</table>\n",
       "</div>"
      ],
      "text/plain": [
       "   Churn Value  Gender Senior Citizen Partner Dependents  Tenure Months  \\\n",
       "0            1    Male             No      No         No              2   \n",
       "1            1  Female             No      No        Yes              2   \n",
       "2            1  Female             No      No        Yes              8   \n",
       "3            1  Female             No     Yes        Yes             28   \n",
       "4            1    Male             No      No        Yes             49   \n",
       "\n",
       "  Phone Service Multiple Lines Internet Service Online Security Online Backup  \\\n",
       "0           Yes             No              DSL             Yes           Yes   \n",
       "1           Yes             No      Fiber optic              No            No   \n",
       "2           Yes            Yes      Fiber optic              No            No   \n",
       "3           Yes            Yes      Fiber optic              No            No   \n",
       "4           Yes            Yes      Fiber optic              No           Yes   \n",
       "\n",
       "  Device Protection Tech Support Streaming TV Streaming Movies  \\\n",
       "0                No           No           No               No   \n",
       "1                No           No           No               No   \n",
       "2               Yes           No          Yes              Yes   \n",
       "3               Yes          Yes          Yes              Yes   \n",
       "4               Yes           No          Yes              Yes   \n",
       "\n",
       "         Contract Paperless Billing             Payment Method  \\\n",
       "0  Month-to-month               Yes               Mailed check   \n",
       "1  Month-to-month               Yes           Electronic check   \n",
       "2  Month-to-month               Yes           Electronic check   \n",
       "3  Month-to-month               Yes           Electronic check   \n",
       "4  Month-to-month               Yes  Bank transfer (automatic)   \n",
       "\n",
       "   Monthly Charges  Total Charges  \n",
       "0            53.85         108.15  \n",
       "1            70.70         151.65  \n",
       "2            99.65         820.50  \n",
       "3           104.80        3046.05  \n",
       "4           103.70        5036.30  "
      ]
     },
     "execution_count": 6,
     "metadata": {},
     "output_type": "execute_result"
    }
   ],
   "source": [
    "df_logis = df[['Churn Value','Gender','Senior Citizen','Partner','Dependents','Tenure Months','Phone Service','Multiple Lines','Internet Service','Online Security','Online Backup','Device Protection','Tech Support','Streaming TV','Streaming Movies','Contract','Paperless Billing','Payment Method','Monthly Charges','Total Charges']]\n",
    "df_logis.head()"
   ]
  },
  {
   "cell_type": "code",
   "execution_count": 7,
   "id": "c5d34eca",
   "metadata": {},
   "outputs": [
    {
     "name": "stdout",
     "output_type": "stream",
     "text": [
      "0    5163\n",
      "1    1869\n",
      "Name: Churn Value, dtype: int64\n"
     ]
    },
    {
     "name": "stderr",
     "output_type": "stream",
     "text": [
      "C:\\Users\\kornc\\Documents\\anaconda3\\lib\\site-packages\\seaborn\\_decorators.py:36: FutureWarning: Pass the following variable as a keyword arg: x. From version 0.12, the only valid positional argument will be `data`, and passing other arguments without an explicit keyword will result in an error or misinterpretation.\n",
      "  warnings.warn(\n"
     ]
    },
    {
     "data": {
      "text/plain": [
       "<AxesSubplot:xlabel='Churn Value', ylabel='count'>"
      ]
     },
     "execution_count": 7,
     "metadata": {},
     "output_type": "execute_result"
    },
    {
     "data": {
      "image/png": "[encoded data removed]",
      "text/plain": [
       "<Figure size 432x288 with 1 Axes>"
      ]
     },
     "metadata": {
      "needs_background": "light"
     },
     "output_type": "display_data"
    }
   ],
   "source": [
    "# check weight Churn Yes and No\n",
    "churn_count = pd.value_counts(df_logis['Churn Value'])\n",
    "print(churn_count)\n",
    "sns.countplot(df_logis['Churn Value'], palette=['#488AC7',\"#F75D59\"])"
   ]
  },
  {
   "cell_type": "code",
   "execution_count": 8,
   "id": "f5266ead",
   "metadata": {},
   "outputs": [
    {
     "name": "stdout",
     "output_type": "stream",
     "text": [
      "Index(['Churn Value', 'Tenure Months', 'Monthly Charges', 'Total Charges',\n",
      "       'Gender_Female', 'Gender_Male', 'Senior Citizen_No',\n",
      "       'Senior Citizen_Yes', 'Partner_No', 'Partner_Yes', 'Dependents_No',\n",
      "       'Dependents_Yes', 'Phone Service_No', 'Phone Service_Yes',\n",
      "       'Multiple Lines_No', 'Multiple Lines_No phone service',\n",
      "       'Multiple Lines_Yes', 'Internet Service_DSL',\n",
      "       'Internet Service_Fiber optic', 'Internet Service_No',\n",
      "       'Online Security_No', 'Online Security_No internet service',\n",
      "       'Online Security_Yes', 'Online Backup_No',\n",
      "       'Online Backup_No internet service', 'Online Backup_Yes',\n",
      "       'Device Protection_No', 'Device Protection_No internet service',\n",
      "       'Device Protection_Yes', 'Tech Support_No',\n",
      "       'Tech Support_No internet service', 'Tech Support_Yes',\n",
      "       'Streaming TV_No', 'Streaming TV_No internet service',\n",
      "       'Streaming TV_Yes', 'Streaming Movies_No',\n",
      "       'Streaming Movies_No internet service', 'Streaming Movies_Yes',\n",
      "       'Contract_Month-to-month', 'Contract_One year', 'Contract_Two year',\n",
      "       'Paperless Billing_No', 'Paperless Billing_Yes',\n",
      "       'Payment Method_Bank transfer (automatic)',\n",
      "       'Payment Method_Credit card (automatic)',\n",
      "       'Payment Method_Electronic check', 'Payment Method_Mailed check'],\n",
      "      dtype='object')\n"
     ]
    },
    {
     "data": {
      "text/html": [
       "<div>\n",
       "<style scoped>\n",
       "    .dataframe tbody tr th:only-of-type {\n",
       "        vertical-align: middle;\n",
       "    }\n",
       "\n",
       "    .dataframe tbody tr th {\n",
       "        vertical-align: top;\n",
       "    }\n",
       "\n",
       "    .dataframe thead th {\n",
       "        text-align: right;\n",
       "    }\n",
       "</style>\n",
       "<table border=\"1\" class=\"dataframe\">\n",
       "  <thead>\n",
       "    <tr style=\"text-align: right;\">\n",
       "      <th></th>\n",
       "      <th>Churn Value</th>\n",
       "      <th>Tenure Months</th>\n",
       "      <th>Monthly Charges</th>\n",
       "      <th>Total Charges</th>\n",
       "      <th>Gender_Female</th>\n",
       "      <th>Gender_Male</th>\n",
       "      <th>Senior Citizen_No</th>\n",
       "      <th>Senior Citizen_Yes</th>\n",
       "      <th>Partner_No</th>\n",
       "      <th>Partner_Yes</th>\n",
       "      <th>...</th>\n",
       "      <th>Streaming Movies_Yes</th>\n",
       "      <th>Contract_Month-to-month</th>\n",
       "      <th>Contract_One year</th>\n",
       "      <th>Contract_Two year</th>\n",
       "      <th>Paperless Billing_No</th>\n",
       "      <th>Paperless Billing_Yes</th>\n",
       "      <th>Payment Method_Bank transfer (automatic)</th>\n",
       "      <th>Payment Method_Credit card (automatic)</th>\n",
       "      <th>Payment Method_Electronic check</th>\n",
       "      <th>Payment Method_Mailed check</th>\n",
       "    </tr>\n",
       "  </thead>\n",
       "  <tbody>\n",
       "    <tr>\n",
       "      <th>0</th>\n",
       "      <td>1</td>\n",
       "      <td>2</td>\n",
       "      <td>53.85</td>\n",
       "      <td>108.15</td>\n",
       "      <td>0</td>\n",
       "      <td>1</td>\n",
       "      <td>1</td>\n",
       "      <td>0</td>\n",
       "      <td>1</td>\n",
       "      <td>0</td>\n",
       "      <td>...</td>\n",
       "      <td>0</td>\n",
       "      <td>1</td>\n",
       "      <td>0</td>\n",
       "      <td>0</td>\n",
       "      <td>0</td>\n",
       "      <td>1</td>\n",
       "      <td>0</td>\n",
       "      <td>0</td>\n",
       "      <td>0</td>\n",
       "      <td>1</td>\n",
       "    </tr>\n",
       "    <tr>\n",
       "      <th>1</th>\n",
       "      <td>1</td>\n",
       "      <td>2</td>\n",
       "      <td>70.70</td>\n",
       "      <td>151.65</td>\n",
       "      <td>1</td>\n",
       "      <td>0</td>\n",
       "      <td>1</td>\n",
       "      <td>0</td>\n",
       "      <td>1</td>\n",
       "      <td>0</td>\n",
       "      <td>...</td>\n",
       "      <td>0</td>\n",
       "      <td>1</td>\n",
       "      <td>0</td>\n",
       "      <td>0</td>\n",
       "      <td>0</td>\n",
       "      <td>1</td>\n",
       "      <td>0</td>\n",
       "      <td>0</td>\n",
       "      <td>1</td>\n",
       "      <td>0</td>\n",
       "    </tr>\n",
       "    <tr>\n",
       "      <th>2</th>\n",
       "      <td>1</td>\n",
       "      <td>8</td>\n",
       "      <td>99.65</td>\n",
       "      <td>820.50</td>\n",
       "      <td>1</td>\n",
       "      <td>0</td>\n",
       "      <td>1</td>\n",
       "      <td>0</td>\n",
       "      <td>1</td>\n",
       "      <td>0</td>\n",
       "      <td>...</td>\n",
       "      <td>1</td>\n",
       "      <td>1</td>\n",
       "      <td>0</td>\n",
       "      <td>0</td>\n",
       "      <td>0</td>\n",
       "      <td>1</td>\n",
       "      <td>0</td>\n",
       "      <td>0</td>\n",
       "      <td>1</td>\n",
       "      <td>0</td>\n",
       "    </tr>\n",
       "    <tr>\n",
       "      <th>3</th>\n",
       "      <td>1</td>\n",
       "      <td>28</td>\n",
       "      <td>104.80</td>\n",
       "      <td>3046.05</td>\n",
       "      <td>1</td>\n",
       "      <td>0</td>\n",
       "      <td>1</td>\n",
       "      <td>0</td>\n",
       "      <td>0</td>\n",
       "      <td>1</td>\n",
       "      <td>...</td>\n",
       "      <td>1</td>\n",
       "      <td>1</td>\n",
       "      <td>0</td>\n",
       "      <td>0</td>\n",
       "      <td>0</td>\n",
       "      <td>1</td>\n",
       "      <td>0</td>\n",
       "      <td>0</td>\n",
       "      <td>1</td>\n",
       "      <td>0</td>\n",
       "    </tr>\n",
       "    <tr>\n",
       "      <th>4</th>\n",
       "      <td>1</td>\n",
       "      <td>49</td>\n",
       "      <td>103.70</td>\n",
       "      <td>5036.30</td>\n",
       "      <td>0</td>\n",
       "      <td>1</td>\n",
       "      <td>1</td>\n",
       "      <td>0</td>\n",
       "      <td>1</td>\n",
       "      <td>0</td>\n",
       "      <td>...</td>\n",
       "      <td>1</td>\n",
       "      <td>1</td>\n",
       "      <td>0</td>\n",
       "      <td>0</td>\n",
       "      <td>0</td>\n",
       "      <td>1</td>\n",
       "      <td>1</td>\n",
       "      <td>0</td>\n",
       "      <td>0</td>\n",
       "      <td>0</td>\n",
       "    </tr>\n",
       "  </tbody>\n",
       "</table>\n",
       "<p>5 rows × 47 columns</p>\n",
       "</div>"
      ],
      "text/plain": [
       "   Churn Value  Tenure Months  Monthly Charges  Total Charges  Gender_Female  \\\n",
       "0            1              2            53.85         108.15              0   \n",
       "1            1              2            70.70         151.65              1   \n",
       "2            1              8            99.65         820.50              1   \n",
       "3            1             28           104.80        3046.05              1   \n",
       "4            1             49           103.70        5036.30              0   \n",
       "\n",
       "   Gender_Male  Senior Citizen_No  Senior Citizen_Yes  Partner_No  \\\n",
       "0            1                  1                   0           1   \n",
       "1            0                  1                   0           1   \n",
       "2            0                  1                   0           1   \n",
       "3            0                  1                   0           0   \n",
       "4            1                  1                   0           1   \n",
       "\n",
       "   Partner_Yes  ...  Streaming Movies_Yes  Contract_Month-to-month  \\\n",
       "0            0  ...                     0                        1   \n",
       "1            0  ...                     0                        1   \n",
       "2            0  ...                     1                        1   \n",
       "3            1  ...                     1                        1   \n",
       "4            0  ...                     1                        1   \n",
       "\n",
       "   Contract_One year  Contract_Two year  Paperless Billing_No  \\\n",
       "0                  0                  0                     0   \n",
       "1                  0                  0                     0   \n",
       "2                  0                  0                     0   \n",
       "3                  0                  0                     0   \n",
       "4                  0                  0                     0   \n",
       "\n",
       "   Paperless Billing_Yes  Payment Method_Bank transfer (automatic)  \\\n",
       "0                      1                                         0   \n",
       "1                      1                                         0   \n",
       "2                      1                                         0   \n",
       "3                      1                                         0   \n",
       "4                      1                                         1   \n",
       "\n",
       "   Payment Method_Credit card (automatic)  Payment Method_Electronic check  \\\n",
       "0                                       0                                0   \n",
       "1                                       0                                1   \n",
       "2                                       0                                1   \n",
       "3                                       0                                1   \n",
       "4                                       0                                0   \n",
       "\n",
       "   Payment Method_Mailed check  \n",
       "0                            1  \n",
       "1                            0  \n",
       "2                            0  \n",
       "3                            0  \n",
       "4                            0  \n",
       "\n",
       "[5 rows x 47 columns]"
      ]
     },
     "execution_count": 8,
     "metadata": {},
     "output_type": "execute_result"
    }
   ],
   "source": [
    "# get dummy into dataframe\n",
    "dummy_df_logis = pd.get_dummies(df_logis)\n",
    "print(dummy_df_logis.columns)\n",
    "dummy_df_logis.head()"
   ]
  },
  {
   "cell_type": "code",
   "execution_count": 9,
   "id": "d4aa0681",
   "metadata": {},
   "outputs": [],
   "source": [
    "y = dummy_df_logis['Churn Value']\n",
    "X = dummy_df_logis.drop('Churn Value', axis=1)"
   ]
  },
  {
   "cell_type": "code",
   "execution_count": 10,
   "id": "f92c9bcf",
   "metadata": {},
   "outputs": [
    {
     "data": {
      "text/plain": [
       "(7032, 46)"
      ]
     },
     "execution_count": 10,
     "metadata": {},
     "output_type": "execute_result"
    }
   ],
   "source": [
    "X.shape"
   ]
  },
  {
   "cell_type": "markdown",
   "id": "45ef6185",
   "metadata": {},
   "source": [
    "## 2. modeling (Logistic Regression: Full Model)"
   ]
  },
  {
   "cell_type": "code",
   "execution_count": 11,
   "id": "e99613b3",
   "metadata": {},
   "outputs": [
    {
     "data": {
      "text/plain": [
       "(7032, 46)"
      ]
     },
     "execution_count": 11,
     "metadata": {},
     "output_type": "execute_result"
    }
   ],
   "source": [
    "# normalization\n",
    "mm = preprocessing.StandardScaler()\n",
    "X1 = pd.DataFrame(mm.fit_transform(X.iloc[:,[0,1,2]]))\n",
    "X2 = X.iloc[:,3:]\n",
    "X = np.concatenate((X1, X2), axis=1)\n",
    "X.shape\n"
   ]
  },
  {
   "cell_type": "code",
   "execution_count": 12,
   "id": "696a258e",
   "metadata": {},
   "outputs": [
    {
     "data": {
      "text/plain": [
       "array([[1377,  167],\n",
       "       [ 247,  319]], dtype=int64)"
      ]
     },
     "execution_count": 12,
     "metadata": {},
     "output_type": "execute_result"
    }
   ],
   "source": [
    "# Train-Test-Split\n",
    "X_train, X_test, y_train, y_test = train_test_split(X, y, test_size = .3, random_state = 100)\n",
    "\n",
    "#Build model\n",
    "logreg = LogisticRegression(solver = 'liblinear',max_iter=100)\n",
    "logreg.fit(X_train, y_train)\n",
    "\n",
    "# predict future values\n",
    "y_pred = logreg.predict(X_test)\n",
    "\n",
    "cnf_matrix = confusion_matrix(y_test, y_pred)\n",
    "cnf_matrix"
   ]
  },
  {
   "cell_type": "markdown",
   "id": "d23f5d68",
   "metadata": {},
   "source": [
    "## 3. Evaluate Model"
   ]
  },
  {
   "cell_type": "code",
   "execution_count": 15,
   "id": "18c5066b",
   "metadata": {},
   "outputs": [
    {
     "name": "stdout",
     "output_type": "stream",
     "text": [
      "Accuracy of logistic regression classifier on test set: 0.80\n",
      "accuracy score is:  0.8037914691943128\n",
      "roc auc score is:  0.7277218092605138\n",
      "precision score is:  0.6563786008230452\n",
      "recall score is:  0.5636042402826855\n",
      "f1 score  test dataset :  t 0.6064638783269961\n",
      "              precision    recall  f1-score   support\n",
      "\n",
      "           0       0.85      0.89      0.87      1544\n",
      "           1       0.66      0.56      0.61       566\n",
      "\n",
      "    accuracy                           0.80      2110\n",
      "   macro avg       0.75      0.73      0.74      2110\n",
      "weighted avg       0.80      0.80      0.80      2110\n",
      "\n"
     ]
    }
   ],
   "source": [
    "print('Accuracy of logistic regression classifier on test set: {:.2f}'.format(logreg.score(X_test,y_test)))\n",
    "print('accuracy score is: ', accuracy_score(y_test,y_pred))\n",
    "print('roc auc score is: ', roc_auc_score(y_test,y_pred))\n",
    "print('precision score is: ',precision_score(y_test,y_pred))\n",
    "print('recall score is: ', recall_score(y_test,y_pred))\n",
    "print(\"f1 score  test dataset :  t\", f1_score(y_test,y_pred))\n",
    "print(classification_report(y_test,y_pred))"
   ]
  },
  {
   "cell_type": "code",
   "execution_count": 16,
   "id": "8fd0f6f0",
   "metadata": {},
   "outputs": [
    {
     "data": {
      "image/png": "[encoded data removed]",
      "text/plain": [
       "<Figure size 432x288 with 1 Axes>"
      ]
     },
     "metadata": {
      "needs_background": "light"
     },
     "output_type": "display_data"
    }
   ],
   "source": [
    "from sklearn.metrics import roc_auc_score\n",
    "from sklearn.metrics import roc_curve\n",
    "logit_roc_auc = roc_auc_score(y_test, logreg.predict(X_test))\n",
    "fpr, tpr, thresholds = roc_curve(y_test, logreg.predict_proba(X_test)[:,1])\n",
    "plt.figure()\n",
    "plt.plot(fpr, tpr, label='Logistic Regression (area = %0.2f)' % logit_roc_auc)\n",
    "plt.plot([0, 1], [0, 1],'r--')\n",
    "plt.xlim([0.0, 1.0])\n",
    "plt.ylim([0.0, 1.05])\n",
    "plt.xlabel('False Positive Rate')\n",
    "plt.ylabel('True Positive Rate')\n",
    "plt.title('Receiver operating characteristic')\n",
    "plt.legend(loc=\"lower right\")\n",
    "plt.savefig('Log_ROC')\n",
    "plt.show()"
   ]
  },
  {
   "cell_type": "markdown",
   "id": "3539a622",
   "metadata": {},
   "source": [
    "## 4. Improve Model"
   ]
  },
  {
   "cell_type": "code",
   "execution_count": 41,
   "id": "a83d5799",
   "metadata": {},
   "outputs": [
    {
     "name": "stdout",
     "output_type": "stream",
     "text": [
      "-> folds=2, accuracy=0.810 (0.801,0.819)\n",
      "-> folds=3, accuracy=0.813 (0.797,0.824)\n",
      "-> folds=4, accuracy=0.810 (0.794,0.823)\n",
      "-> folds=5, accuracy=0.809 (0.797,0.819)\n",
      "-> folds=6, accuracy=0.810 (0.795,0.822)\n",
      "-> folds=7, accuracy=0.810 (0.793,0.822)\n",
      "-> folds=8, accuracy=0.812 (0.787,0.835)\n",
      "-> folds=9, accuracy=0.811 (0.797,0.825)\n",
      "-> folds=10, accuracy=0.810 (0.792,0.824)\n",
      "-> folds=11, accuracy=0.811 (0.784,0.833)\n",
      "-> folds=12, accuracy=0.810 (0.776,0.831)\n",
      "-> folds=13, accuracy=0.809 (0.778,0.843)\n",
      "-> folds=14, accuracy=0.809 (0.773,0.843)\n",
      "-> folds=15, accuracy=0.810 (0.772,0.842)\n",
      "-> folds=16, accuracy=0.811 (0.775,0.841)\n",
      "-> folds=17, accuracy=0.811 (0.768,0.857)\n",
      "-> folds=18, accuracy=0.811 (0.760,0.854)\n",
      "-> folds=19, accuracy=0.810 (0.757,0.846)\n",
      "-> folds=20, accuracy=0.810 (0.773,0.846)\n",
      "-> folds=21, accuracy=0.811 (0.764,0.847)\n",
      "-> folds=22, accuracy=0.811 (0.778,0.846)\n",
      "-> folds=23, accuracy=0.810 (0.771,0.853)\n",
      "-> folds=24, accuracy=0.810 (0.775,0.853)\n",
      "-> folds=25, accuracy=0.810 (0.745,0.854)\n",
      "-> folds=26, accuracy=0.811 (0.768,0.859)\n",
      "-> folds=27, accuracy=0.810 (0.759,0.854)\n",
      "-> folds=28, accuracy=0.811 (0.761,0.873)\n",
      "-> folds=29, accuracy=0.811 (0.765,0.855)\n",
      "-> folds=30, accuracy=0.811 (0.745,0.876)\n"
     ]
    }
   ],
   "source": [
    "def evaluate_model(cv):\n",
    "  # get the model\n",
    "  model = LogisticRegression(solver = 'liblinear',max_iter=100)\n",
    "  # evaluate the model\n",
    "  scores = cross_val_score(model, X, y, scoring='accuracy', cv=cv, n_jobs=-1)\n",
    "  # return scores\n",
    "  return mean(scores), scores.min(), scores.max()\n",
    "\n",
    "folds = range(2,31)\n",
    "for k in folds:\n",
    "    # define the test condition\n",
    "    cv = KFold(n_splits=k, shuffle=True, random_state=100)\n",
    "    # record mean and min/max of each set of results\n",
    "    k_mean, k_min, k_max = evaluate_model(cv)\n",
    "    # report performance\n",
    "    print('-> folds=%d, accuracy=%.3f (%.3f,%.3f)' % (k, k_mean, k_min, k_max))"
   ]
  },
  {
   "cell_type": "code",
   "execution_count": 47,
   "id": "972e461e",
   "metadata": {},
   "outputs": [
    {
     "name": "stdout",
     "output_type": "stream",
     "text": [
      "Duration: 0:03:09.999806\n"
     ]
    }
   ],
   "source": [
    "from sklearn.model_selection import StratifiedKFold\n",
    "from sklearn.model_selection import GridSearchCV\n",
    "start_time = datetime.now()\n",
    "\n",
    "#Hyperparameter tuning\n",
    "# define model/create instance\n",
    "lr=LogisticRegression(solver = 'liblinear',max_iter=100)\n",
    "\n",
    "#tuning weight for minority class then weight for majority class will be 1-weight of minority class\n",
    "#Setting the range for class weights\n",
    "weights = np.linspace(0.0,0.99,500)\n",
    "\n",
    "#specifying all hyperparameters with possible values\n",
    "param= {'C': [0.1, 0.5, 1,10,15,20], \n",
    "        'penalty': ['l2'],\n",
    "        \"class_weight\":[{0:x ,1:1.0 -x} for x in weights]}\n",
    "\n",
    "# create 5 folds\n",
    "folds = StratifiedKFold(n_splits = 5, shuffle = True, random_state = 100)\n",
    "\n",
    "#Gridsearch for hyperparam tuning\n",
    "model= GridSearchCV(estimator= lr,\n",
    "                    param_grid=param, \n",
    "                    scoring=\"f1\",\n",
    "                    cv=folds,return_train_score=True)\n",
    "\n",
    "#train model to learn relationships between x and y\n",
    "model.fit(X_train,y_train)\n",
    "\n",
    "end_time = datetime.now()\n",
    "print('Duration: {}'.format(end_time - start_time))"
   ]
  },
  {
   "cell_type": "code",
   "execution_count": 48,
   "id": "ab29d98c",
   "metadata": {
    "scrolled": true
   },
   "outputs": [
    {
     "name": "stdout",
     "output_type": "stream",
     "text": [
      "Best F1 score:  0.6532763857125323\n",
      "Best hyperparameters:  {'C': 10, 'class_weight': {0: 0.38092184368737475, 1: 0.6190781563126253}, 'penalty': 'l2'}\n"
     ]
    }
   ],
   "source": [
    "# print best hyperparameters\n",
    "print(\"Best F1 score: \", model.best_score_)\n",
    "print(\"Best hyperparameters: \", model.best_params_)"
   ]
  },
  {
   "cell_type": "code",
   "execution_count": 49,
   "id": "603d0458",
   "metadata": {},
   "outputs": [
    {
     "name": "stderr",
     "output_type": "stream",
     "text": [
      "C:\\Users\\kornc\\Documents\\anaconda3\\lib\\site-packages\\sklearn\\linear_model\\_logistic.py:814: ConvergenceWarning: lbfgs failed to converge (status=1):\n",
      "STOP: TOTAL NO. of ITERATIONS REACHED LIMIT.\n",
      "\n",
      "Increase the number of iterations (max_iter) or scale the data as shown in:\n",
      "    https://scikit-learn.org/stable/modules/preprocessing.html\n",
      "Please also refer to the documentation for alternative solver options:\n",
      "    https://scikit-learn.org/stable/modules/linear_model.html#logistic-regression\n",
      "  n_iter_i = _check_optimize_result(\n"
     ]
    },
    {
     "data": {
      "text/plain": [
       "LogisticRegression(C=10, class_weight={0: 0.38, 1: 0.62})"
      ]
     },
     "execution_count": 49,
     "metadata": {},
     "output_type": "execute_result"
    }
   ],
   "source": [
    "#Building Model again with best params\n",
    "lr2=LogisticRegression(class_weight={0:0.38,1:0.62},C=10,penalty=\"l2\")\n",
    "lr2.fit(X_train,y_train)"
   ]
  },
  {
   "cell_type": "code",
   "execution_count": 50,
   "id": "2dcada97",
   "metadata": {},
   "outputs": [
    {
     "name": "stderr",
     "output_type": "stream",
     "text": [
      "C:\\Users\\kornc\\Documents\\anaconda3\\lib\\site-packages\\sklearn\\linear_model\\_logistic.py:814: ConvergenceWarning: lbfgs failed to converge (status=1):\n",
      "STOP: TOTAL NO. of ITERATIONS REACHED LIMIT.\n",
      "\n",
      "Increase the number of iterations (max_iter) or scale the data as shown in:\n",
      "    https://scikit-learn.org/stable/modules/preprocessing.html\n",
      "Please also refer to the documentation for alternative solver options:\n",
      "    https://scikit-learn.org/stable/modules/linear_model.html#logistic-regression\n",
      "  n_iter_i = _check_optimize_result(\n"
     ]
    },
    {
     "data": {
      "text/plain": [
       "<matplotlib.legend.Legend at 0x1bd7e3fd0d0>"
      ]
     },
     "execution_count": 50,
     "metadata": {},
     "output_type": "execute_result"
    },
    {
     "data": {
      "image/png": "[encoded data removed]",
      "text/plain": [
       "<Figure size 432x288 with 1 Axes>"
      ]
     },
     "metadata": {
      "needs_background": "light"
     },
     "output_type": "display_data"
    }
   ],
   "source": [
    "train_sizes, train_scores, test_scores = learning_curve(lr2,X_train, y_train, cv = 3, train_sizes = [1, 30,100,300,520])\n",
    "train_scores_mean = np.mean(train_scores, axis=1)\n",
    "train_scores_std = np.std(train_scores, axis=1)\n",
    "test_scores_mean = np.mean(test_scores, axis=1)\n",
    "test_scores_std = np.std(test_scores, axis=1)\n",
    "\n",
    "plt.grid()\n",
    "\n",
    "plt.fill_between(train_sizes, train_scores_mean - train_scores_std,\n",
    "                  train_scores_mean + train_scores_std, alpha=0.1,\n",
    "                  color=\"r\")\n",
    "plt.fill_between(train_sizes, test_scores_mean - test_scores_std,\n",
    "                  test_scores_mean + test_scores_std, alpha=0.1, color=\"g\")\n",
    "plt.plot(train_sizes, train_scores_mean, 'o-', color=\"r\",\n",
    "          label=\"Training score\")\n",
    "plt.plot(train_sizes, test_scores_mean, 'o-', color=\"g\",\n",
    "          label=\"Cross-validation score\")\n",
    "\n",
    "plt.legend(loc=\"best\")"
   ]
  },
  {
   "cell_type": "markdown",
   "id": "55dfad81",
   "metadata": {},
   "source": [
    "Learning curve is used to assess how models will perform with varying numbrs of training samples with “training scores”(red line)  and “validation scores”(green line).\n",
    "\n",
    "- High Variance Model(overfitting): The plot on the right side represents a model that has large gap between training and validation accuracy. One of the way to fix this problem is “ Romove less important features”"
   ]
  },
  {
   "cell_type": "code",
   "execution_count": 51,
   "id": "0f860a98",
   "metadata": {
    "scrolled": true
   },
   "outputs": [
    {
     "name": "stdout",
     "output_type": "stream",
     "text": [
      "confusion Matrix is :nn [[1261  283]\n",
      " [ 174  392]]\n",
      "n\n",
      "accuracy score is:  0.7834123222748816\n",
      "ROC-AUC score  test dataset:  t 0.8444588879327706\n",
      "precision score  test dataset:  t 0.5807407407407408\n",
      "Recall score  test dataset:  t 0.6925795053003534\n",
      "f1 score  test dataset :  t 0.6317485898468977\n",
      "              precision    recall  f1-score   support\n",
      "\n",
      "           0       0.88      0.82      0.85      1544\n",
      "           1       0.58      0.69      0.63       566\n",
      "\n",
      "    accuracy                           0.78      2110\n",
      "   macro avg       0.73      0.75      0.74      2110\n",
      "weighted avg       0.80      0.78      0.79      2110\n",
      "\n"
     ]
    }
   ],
   "source": [
    "# Evaluating on Test Set\n",
    "# predict probabilities on Test and take probability for class 1([:1])\n",
    "y_pred_prob_test = lr2.predict_proba(X_test)[:, 1]\n",
    "#predict labels on test dataset\n",
    "y_pred_test = lr2.predict(X_test)\n",
    "# create onfusion matrix\n",
    "cm = confusion_matrix(y_test, y_pred_test)\n",
    "print(\"confusion Matrix is :nn\",cm)\n",
    "print(\"n\")\n",
    "# Accuracy score\n",
    "print('accuracy score is: ', accuracy_score(y_test,y_pred_test))\n",
    "# ROC- AUC score\n",
    "print(\"ROC-AUC score  test dataset:  t\", roc_auc_score(y_test,y_pred_prob_test))\n",
    "#Precision score\n",
    "print(\"precision score  test dataset:  t\", precision_score(y_test,y_pred_test))\n",
    "#Recall Score\n",
    "print(\"Recall score  test dataset:  t\", recall_score(y_test,y_pred_test))\n",
    "#f1 score\n",
    "print(\"f1 score  test dataset :  t\", f1_score(y_test,y_pred_test))\n",
    "print(classification_report(y_test,y_pred_test))"
   ]
  },
  {
   "cell_type": "code",
   "execution_count": 52,
   "id": "de20e02d",
   "metadata": {},
   "outputs": [
    {
     "data": {
      "image/png": "[encoded data removed]",
      "text/plain": [
       "<Figure size 432x288 with 1 Axes>"
      ]
     },
     "metadata": {
      "needs_background": "light"
     },
     "output_type": "display_data"
    }
   ],
   "source": [
    "from sklearn.metrics import roc_auc_score\n",
    "from sklearn.metrics import roc_curve\n",
    "implogit_roc_auc = roc_auc_score(y_test, lr2.predict(X_test))\n",
    "fpr, tpr, thresholds = roc_curve(y_test, lr2.predict_proba(X_test)[:,1])\n",
    "plt.figure()\n",
    "plt.plot(fpr, tpr, label='Logistic Regression (area = %0.2f)' % implogit_roc_auc)\n",
    "plt.plot([0, 1], [0, 1],'r--')\n",
    "plt.xlim([0.0, 1.0])\n",
    "plt.ylim([0.0, 1.05])\n",
    "plt.xlabel('False Positive Rate')\n",
    "plt.ylabel('True Positive Rate')\n",
    "plt.title('Receiver operating characteristic')\n",
    "plt.legend(loc=\"lower right\")\n",
    "plt.savefig('Log_ROC')\n",
    "plt.show()"
   ]
  },
  {
   "cell_type": "markdown",
   "id": "30fec404",
   "metadata": {},
   "source": [
    "## Predict risk of customer churn"
   ]
  },
  {
   "cell_type": "markdown",
   "id": "590e1d19",
   "metadata": {},
   "source": [
    "### sampling customer for prediction"
   ]
  },
  {
   "cell_type": "code",
   "execution_count": 54,
   "id": "ab9119b5",
   "metadata": {},
   "outputs": [
    {
     "data": {
      "text/plain": [
       "array([[-0.99504031,  0.17623391, -0.76411482, ...,  0.        ,\n",
       "         0.        ,  1.        ],\n",
       "       [ 0.79769399, -1.51570466, -0.54202105, ...,  0.        ,\n",
       "         0.        ,  1.        ],\n",
       "       [-1.28024804,  0.38731073, -0.97363475, ...,  0.        ,\n",
       "         1.        ,  0.        ],\n",
       "       ...,\n",
       "       [ 1.61257321,  0.91417175,  1.95737211, ...,  1.        ,\n",
       "         0.        ,  0.        ],\n",
       "       [-1.15801615, -1.48745028, -0.96964201, ...,  0.        ,\n",
       "         0.        ,  0.        ],\n",
       "       [-1.19876011,  0.182882  , -0.91012582, ...,  0.        ,\n",
       "         0.        ,  1.        ]])"
      ]
     },
     "execution_count": 54,
     "metadata": {},
     "output_type": "execute_result"
    }
   ],
   "source": [
    "X_test"
   ]
  },
  {
   "cell_type": "markdown",
   "id": "1ed92919",
   "metadata": {},
   "source": [
    "#### customer no.3"
   ]
  },
  {
   "cell_type": "code",
   "execution_count": 55,
   "id": "2db58c31",
   "metadata": {},
   "outputs": [
    {
     "data": {
      "text/plain": [
       "Tenure Months                                 28.00\n",
       "Monthly Charges                              104.80\n",
       "Total Charges                               3046.05\n",
       "Gender_Female                                  1.00\n",
       "Gender_Male                                    0.00\n",
       "Senior Citizen_No                              1.00\n",
       "Senior Citizen_Yes                             0.00\n",
       "Partner_No                                     0.00\n",
       "Partner_Yes                                    1.00\n",
       "Dependents_No                                  0.00\n",
       "Dependents_Yes                                 1.00\n",
       "Phone Service_No                               0.00\n",
       "Phone Service_Yes                              1.00\n",
       "Multiple Lines_No                              0.00\n",
       "Multiple Lines_No phone service                0.00\n",
       "Multiple Lines_Yes                             1.00\n",
       "Internet Service_DSL                           0.00\n",
       "Internet Service_Fiber optic                   1.00\n",
       "Internet Service_No                            0.00\n",
       "Online Security_No                             1.00\n",
       "Online Security_No internet service            0.00\n",
       "Online Security_Yes                            0.00\n",
       "Online Backup_No                               1.00\n",
       "Online Backup_No internet service              0.00\n",
       "Online Backup_Yes                              0.00\n",
       "Device Protection_No                           0.00\n",
       "Device Protection_No internet service          0.00\n",
       "Device Protection_Yes                          1.00\n",
       "Tech Support_No                                0.00\n",
       "Tech Support_No internet service               0.00\n",
       "Tech Support_Yes                               1.00\n",
       "Streaming TV_No                                0.00\n",
       "Streaming TV_No internet service               0.00\n",
       "Streaming TV_Yes                               1.00\n",
       "Streaming Movies_No                            0.00\n",
       "Streaming Movies_No internet service           0.00\n",
       "Streaming Movies_Yes                           1.00\n",
       "Contract_Month-to-month                        1.00\n",
       "Contract_One year                              0.00\n",
       "Contract_Two year                              0.00\n",
       "Paperless Billing_No                           0.00\n",
       "Paperless Billing_Yes                          1.00\n",
       "Payment Method_Bank transfer (automatic)       0.00\n",
       "Payment Method_Credit card (automatic)         0.00\n",
       "Payment Method_Electronic check                1.00\n",
       "Payment Method_Mailed check                    0.00\n",
       "Name: 3, dtype: float64"
      ]
     },
     "execution_count": 55,
     "metadata": {},
     "output_type": "execute_result"
    }
   ],
   "source": [
    "dummy_df_logis.iloc[3,1:]"
   ]
  },
  {
   "cell_type": "code",
   "execution_count": 56,
   "id": "1202c378",
   "metadata": {},
   "outputs": [
    {
     "name": "stdout",
     "output_type": "stream",
     "text": [
      "actual churn is  1\n"
     ]
    },
    {
     "data": {
      "text/html": [
       "<div>\n",
       "<style scoped>\n",
       "    .dataframe tbody tr th:only-of-type {\n",
       "        vertical-align: middle;\n",
       "    }\n",
       "\n",
       "    .dataframe tbody tr th {\n",
       "        vertical-align: top;\n",
       "    }\n",
       "\n",
       "    .dataframe thead th {\n",
       "        text-align: right;\n",
       "    }\n",
       "</style>\n",
       "<table border=\"1\" class=\"dataframe\">\n",
       "  <thead>\n",
       "    <tr style=\"text-align: right;\">\n",
       "      <th></th>\n",
       "      <th>0</th>\n",
       "      <th>1</th>\n",
       "      <th>2</th>\n",
       "      <th>3</th>\n",
       "      <th>4</th>\n",
       "      <th>5</th>\n",
       "      <th>6</th>\n",
       "      <th>7</th>\n",
       "      <th>8</th>\n",
       "      <th>9</th>\n",
       "      <th>...</th>\n",
       "      <th>36</th>\n",
       "      <th>37</th>\n",
       "      <th>38</th>\n",
       "      <th>39</th>\n",
       "      <th>40</th>\n",
       "      <th>41</th>\n",
       "      <th>42</th>\n",
       "      <th>43</th>\n",
       "      <th>44</th>\n",
       "      <th>45</th>\n",
       "    </tr>\n",
       "  </thead>\n",
       "  <tbody>\n",
       "    <tr>\n",
       "      <th>0</th>\n",
       "      <td>28.0</td>\n",
       "      <td>104.8</td>\n",
       "      <td>3046.05</td>\n",
       "      <td>1.0</td>\n",
       "      <td>0.0</td>\n",
       "      <td>1.0</td>\n",
       "      <td>0.0</td>\n",
       "      <td>0.0</td>\n",
       "      <td>1.0</td>\n",
       "      <td>0.0</td>\n",
       "      <td>...</td>\n",
       "      <td>1.0</td>\n",
       "      <td>1.0</td>\n",
       "      <td>0.0</td>\n",
       "      <td>0.0</td>\n",
       "      <td>0.0</td>\n",
       "      <td>1.0</td>\n",
       "      <td>0.0</td>\n",
       "      <td>0.0</td>\n",
       "      <td>1.0</td>\n",
       "      <td>0.0</td>\n",
       "    </tr>\n",
       "  </tbody>\n",
       "</table>\n",
       "<p>1 rows × 46 columns</p>\n",
       "</div>"
      ],
      "text/plain": [
       "     0      1        2    3    4    5    6    7    8    9   ...   36   37  \\\n",
       "0  28.0  104.8  3046.05  1.0  0.0  1.0  0.0  0.0  1.0  0.0  ...  1.0  1.0   \n",
       "\n",
       "    38   39   40   41   42   43   44   45  \n",
       "0  0.0  0.0  0.0  1.0  0.0  0.0  1.0  0.0  \n",
       "\n",
       "[1 rows x 46 columns]"
      ]
     },
     "execution_count": 56,
     "metadata": {},
     "output_type": "execute_result"
    }
   ],
   "source": [
    "# no.3 of customer\n",
    "print(\"actual churn is \",dummy_df_logis.iloc[3,0])\n",
    "p = list(dummy_df_logis.iloc[3,1:])\n",
    "p = pd.DataFrame(data=p)\n",
    "p = p.T\n",
    "p[:5]"
   ]
  },
  {
   "cell_type": "code",
   "execution_count": 57,
   "id": "6e1dfa14",
   "metadata": {},
   "outputs": [
    {
     "name": "stdout",
     "output_type": "stream",
     "text": [
      "predict churn is  1\n"
     ]
    }
   ],
   "source": [
    "output = lr2.predict(p)\n",
    "print('predict churn is ', output[0])"
   ]
  },
  {
   "cell_type": "markdown",
   "id": "60a4f26c",
   "metadata": {},
   "source": [
    "#### customer no.7014 "
   ]
  },
  {
   "cell_type": "code",
   "execution_count": 58,
   "id": "c511f8bc",
   "metadata": {},
   "outputs": [
    {
     "data": {
      "text/plain": [
       "Tenure Months                                12.0\n",
       "Monthly Charges                              19.2\n",
       "Total Charges                               239.0\n",
       "Gender_Female                                 0.0\n",
       "Gender_Male                                   1.0\n",
       "Senior Citizen_No                             1.0\n",
       "Senior Citizen_Yes                            0.0\n",
       "Partner_No                                    0.0\n",
       "Partner_Yes                                   1.0\n",
       "Dependents_No                                 0.0\n",
       "Dependents_Yes                                1.0\n",
       "Phone Service_No                              0.0\n",
       "Phone Service_Yes                             1.0\n",
       "Multiple Lines_No                             1.0\n",
       "Multiple Lines_No phone service               0.0\n",
       "Multiple Lines_Yes                            0.0\n",
       "Internet Service_DSL                          0.0\n",
       "Internet Service_Fiber optic                  0.0\n",
       "Internet Service_No                           1.0\n",
       "Online Security_No                            0.0\n",
       "Online Security_No internet service           1.0\n",
       "Online Security_Yes                           0.0\n",
       "Online Backup_No                              0.0\n",
       "Online Backup_No internet service             1.0\n",
       "Online Backup_Yes                             0.0\n",
       "Device Protection_No                          0.0\n",
       "Device Protection_No internet service         1.0\n",
       "Device Protection_Yes                         0.0\n",
       "Tech Support_No                               0.0\n",
       "Tech Support_No internet service              1.0\n",
       "Tech Support_Yes                              0.0\n",
       "Streaming TV_No                               0.0\n",
       "Streaming TV_No internet service              1.0\n",
       "Streaming TV_Yes                              0.0\n",
       "Streaming Movies_No                           0.0\n",
       "Streaming Movies_No internet service          1.0\n",
       "Streaming Movies_Yes                          0.0\n",
       "Contract_Month-to-month                       1.0\n",
       "Contract_One year                             0.0\n",
       "Contract_Two year                             0.0\n",
       "Paperless Billing_No                          0.0\n",
       "Paperless Billing_Yes                         1.0\n",
       "Payment Method_Bank transfer (automatic)      0.0\n",
       "Payment Method_Credit card (automatic)        0.0\n",
       "Payment Method_Electronic check               1.0\n",
       "Payment Method_Mailed check                   0.0\n",
       "Name: 7025, dtype: float64"
      ]
     },
     "execution_count": 58,
     "metadata": {},
     "output_type": "execute_result"
    }
   ],
   "source": [
    "dummy_df_logis.iloc[7014,1:]"
   ]
  },
  {
   "cell_type": "code",
   "execution_count": 59,
   "id": "41af20a2",
   "metadata": {},
   "outputs": [
    {
     "name": "stdout",
     "output_type": "stream",
     "text": [
      "actual churn is  0\n",
      "predict churn is  1\n"
     ]
    }
   ],
   "source": [
    "# customer no.7014\n",
    "print(\"actual churn is \",dummy_df_logis.iloc[7014,0]) #change no here\n",
    "p = list(dummy_df_logis.iloc[7014,1:]) #change no here\n",
    "p = pd.DataFrame(data=p)\n",
    "p = p.T\n",
    "output = lr2.predict(p)\n",
    "print('predict churn is ', output[0])"
   ]
  },
  {
   "cell_type": "markdown",
   "id": "4349c7e4",
   "metadata": {},
   "source": [
    "#### customer no.555 "
   ]
  },
  {
   "cell_type": "code",
   "execution_count": 60,
   "id": "dadbbedd",
   "metadata": {},
   "outputs": [
    {
     "data": {
      "text/plain": [
       "Tenure Months                                 17.00\n",
       "Monthly Charges                               80.85\n",
       "Total Charges                               1400.85\n",
       "Gender_Female                                  0.00\n",
       "Gender_Male                                    1.00\n",
       "Senior Citizen_No                              1.00\n",
       "Senior Citizen_Yes                             0.00\n",
       "Partner_No                                     0.00\n",
       "Partner_Yes                                    1.00\n",
       "Dependents_No                                  1.00\n",
       "Dependents_Yes                                 0.00\n",
       "Phone Service_No                               0.00\n",
       "Phone Service_Yes                              1.00\n",
       "Multiple Lines_No                              1.00\n",
       "Multiple Lines_No phone service                0.00\n",
       "Multiple Lines_Yes                             0.00\n",
       "Internet Service_DSL                           0.00\n",
       "Internet Service_Fiber optic                   1.00\n",
       "Internet Service_No                            0.00\n",
       "Online Security_No                             1.00\n",
       "Online Security_No internet service            0.00\n",
       "Online Security_Yes                            0.00\n",
       "Online Backup_No                               1.00\n",
       "Online Backup_No internet service              0.00\n",
       "Online Backup_Yes                              0.00\n",
       "Device Protection_No                           1.00\n",
       "Device Protection_No internet service          0.00\n",
       "Device Protection_Yes                          0.00\n",
       "Tech Support_No                                1.00\n",
       "Tech Support_No internet service               0.00\n",
       "Tech Support_Yes                               0.00\n",
       "Streaming TV_No                                0.00\n",
       "Streaming TV_No internet service               0.00\n",
       "Streaming TV_Yes                               1.00\n",
       "Streaming Movies_No                            1.00\n",
       "Streaming Movies_No internet service           0.00\n",
       "Streaming Movies_Yes                           0.00\n",
       "Contract_Month-to-month                        1.00\n",
       "Contract_One year                              0.00\n",
       "Contract_Two year                              0.00\n",
       "Paperless Billing_No                           1.00\n",
       "Paperless Billing_Yes                          0.00\n",
       "Payment Method_Bank transfer (automatic)       0.00\n",
       "Payment Method_Credit card (automatic)         0.00\n",
       "Payment Method_Electronic check                1.00\n",
       "Payment Method_Mailed check                    0.00\n",
       "Name: 555, dtype: float64"
      ]
     },
     "execution_count": 60,
     "metadata": {},
     "output_type": "execute_result"
    }
   ],
   "source": [
    "dummy_df_logis.iloc[555,1:]"
   ]
  },
  {
   "cell_type": "code",
   "execution_count": 61,
   "id": "b9e0122c",
   "metadata": {},
   "outputs": [
    {
     "name": "stdout",
     "output_type": "stream",
     "text": [
      "actual churn is  1\n",
      "predict churn is  1\n"
     ]
    }
   ],
   "source": [
    "# customer no.555 \n",
    "print(\"actual churn is \",dummy_df_logis.iloc[555,0]) #change no here\n",
    "p = list(dummy_df_logis.iloc[555,1:]) #change no here\n",
    "p = pd.DataFrame(data=p)\n",
    "p = p.T\n",
    "output = lr2.predict(p)\n",
    "print('predict churn is ', output[0])"
   ]
  },
  {
   "cell_type": "markdown",
   "id": "661b52e7",
   "metadata": {},
   "source": [
    "#### customer no.6524 "
   ]
  },
  {
   "cell_type": "code",
   "execution_count": 62,
   "id": "43736a03",
   "metadata": {},
   "outputs": [
    {
     "data": {
      "text/plain": [
       "Tenure Months                                1.00\n",
       "Monthly Charges                             20.25\n",
       "Total Charges                               20.25\n",
       "Gender_Female                                0.00\n",
       "Gender_Male                                  1.00\n",
       "Senior Citizen_No                            1.00\n",
       "Senior Citizen_Yes                           0.00\n",
       "Partner_No                                   1.00\n",
       "Partner_Yes                                  0.00\n",
       "Dependents_No                                1.00\n",
       "Dependents_Yes                               0.00\n",
       "Phone Service_No                             0.00\n",
       "Phone Service_Yes                            1.00\n",
       "Multiple Lines_No                            1.00\n",
       "Multiple Lines_No phone service              0.00\n",
       "Multiple Lines_Yes                           0.00\n",
       "Internet Service_DSL                         0.00\n",
       "Internet Service_Fiber optic                 0.00\n",
       "Internet Service_No                          1.00\n",
       "Online Security_No                           0.00\n",
       "Online Security_No internet service          1.00\n",
       "Online Security_Yes                          0.00\n",
       "Online Backup_No                             0.00\n",
       "Online Backup_No internet service            1.00\n",
       "Online Backup_Yes                            0.00\n",
       "Device Protection_No                         0.00\n",
       "Device Protection_No internet service        1.00\n",
       "Device Protection_Yes                        0.00\n",
       "Tech Support_No                              0.00\n",
       "Tech Support_No internet service             1.00\n",
       "Tech Support_Yes                             0.00\n",
       "Streaming TV_No                              0.00\n",
       "Streaming TV_No internet service             1.00\n",
       "Streaming TV_Yes                             0.00\n",
       "Streaming Movies_No                          0.00\n",
       "Streaming Movies_No internet service         1.00\n",
       "Streaming Movies_Yes                         0.00\n",
       "Contract_Month-to-month                      1.00\n",
       "Contract_One year                            0.00\n",
       "Contract_Two year                            0.00\n",
       "Paperless Billing_No                         0.00\n",
       "Paperless Billing_Yes                        1.00\n",
       "Payment Method_Bank transfer (automatic)     0.00\n",
       "Payment Method_Credit card (automatic)       0.00\n",
       "Payment Method_Electronic check              0.00\n",
       "Payment Method_Mailed check                  1.00\n",
       "Name: 6533, dtype: float64"
      ]
     },
     "execution_count": 62,
     "metadata": {},
     "output_type": "execute_result"
    }
   ],
   "source": [
    "dummy_df_logis.iloc[6524,1:]"
   ]
  },
  {
   "cell_type": "code",
   "execution_count": 63,
   "id": "10b294d3",
   "metadata": {},
   "outputs": [
    {
     "name": "stdout",
     "output_type": "stream",
     "text": [
      "actual churn is  0\n",
      "predict churn is  0\n"
     ]
    }
   ],
   "source": [
    "# customer no.678 \n",
    "print(\"actual churn is \",dummy_df_logis.iloc[6524,0]) #change no here\n",
    "p = list(dummy_df_logis.iloc[6524,1:]) #change no here\n",
    "p = pd.DataFrame(data=p)\n",
    "p = p.T\n",
    "output = lr2.predict(p)\n",
    "print('predict churn is ', output[0])"
   ]
  },
  {
   "cell_type": "markdown",
   "id": "a70343a0",
   "metadata": {},
   "source": [
    "### Example 4 customers, 3 out of 4 is correct."
   ]
  },
  {
   "cell_type": "markdown",
   "id": "8066bfd8",
   "metadata": {},
   "source": [
    "# --------------------------------------------------------------------------------------------"
   ]
  },
  {
   "cell_type": "code",
   "execution_count": null,
   "id": "3b02de66",
   "metadata": {},
   "outputs": [],
   "source": []
  },
  {
   "cell_type": "code",
   "execution_count": null,
   "id": "cb4ca2ee",
   "metadata": {},
   "outputs": [],
   "source": []
  },
  {
   "cell_type": "code",
   "execution_count": null,
   "id": "ebf89e34",
   "metadata": {},
   "outputs": [],
   "source": []
  }
 ],
 "metadata": {
  "kernelspec": {
   "display_name": "Python 3",
   "language": "python",
   "name": "python3"
  },
  "language_info": {
   "codemirror_mode": {
    "name": "ipython",
    "version": 3
   },
   "file_extension": ".py",
   "mimetype": "text/x-python",
   "name": "python",
   "nbconvert_exporter": "python",
   "pygments_lexer": "ipython3",
   "version": "3.8.8"
  }
 },
 "nbformat": 4,
 "nbformat_minor": 5
}
