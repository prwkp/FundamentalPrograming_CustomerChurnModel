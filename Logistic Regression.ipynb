{
 "cells": [
  {
   "cell_type": "code",
   "execution_count": 1,
   "id": "fccc55a9",
   "metadata": {},
   "outputs": [],
   "source": [
    "import pandas as pd\n",
    "import os\n",
    "import numpy as np"
   ]
  },
  {
   "cell_type": "code",
   "execution_count": 2,
   "id": "36bdc3e8",
   "metadata": {},
   "outputs": [
    {
     "data": {
      "text/html": [
       "<div>\n",
       "<style scoped>\n",
       "    .dataframe tbody tr th:only-of-type {\n",
       "        vertical-align: middle;\n",
       "    }\n",
       "\n",
       "    .dataframe tbody tr th {\n",
       "        vertical-align: top;\n",
       "    }\n",
       "\n",
       "    .dataframe thead th {\n",
       "        text-align: right;\n",
       "    }\n",
       "</style>\n",
       "<table border=\"1\" class=\"dataframe\">\n",
       "  <thead>\n",
       "    <tr style=\"text-align: right;\">\n",
       "      <th></th>\n",
       "      <th>CustomerID</th>\n",
       "      <th>Count</th>\n",
       "      <th>Country</th>\n",
       "      <th>State</th>\n",
       "      <th>City</th>\n",
       "      <th>Zip Code</th>\n",
       "      <th>Lat Long</th>\n",
       "      <th>Latitude</th>\n",
       "      <th>Longitude</th>\n",
       "      <th>Gender</th>\n",
       "      <th>...</th>\n",
       "      <th>Contract</th>\n",
       "      <th>Paperless Billing</th>\n",
       "      <th>Payment Method</th>\n",
       "      <th>Monthly Charges</th>\n",
       "      <th>Total Charges</th>\n",
       "      <th>Churn Label</th>\n",
       "      <th>Churn Value</th>\n",
       "      <th>Churn Score</th>\n",
       "      <th>CLTV</th>\n",
       "      <th>Churn Reason</th>\n",
       "    </tr>\n",
       "  </thead>\n",
       "  <tbody>\n",
       "    <tr>\n",
       "      <th>0</th>\n",
       "      <td>3668-QPYBK</td>\n",
       "      <td>1</td>\n",
       "      <td>United States</td>\n",
       "      <td>California</td>\n",
       "      <td>Los Angeles</td>\n",
       "      <td>90003</td>\n",
       "      <td>33.964131, -118.272783</td>\n",
       "      <td>33.964131</td>\n",
       "      <td>-118.272783</td>\n",
       "      <td>Male</td>\n",
       "      <td>...</td>\n",
       "      <td>Month-to-month</td>\n",
       "      <td>Yes</td>\n",
       "      <td>Mailed check</td>\n",
       "      <td>53.85</td>\n",
       "      <td>108.15</td>\n",
       "      <td>Yes</td>\n",
       "      <td>1</td>\n",
       "      <td>86</td>\n",
       "      <td>3239</td>\n",
       "      <td>Competitor made better offer</td>\n",
       "    </tr>\n",
       "    <tr>\n",
       "      <th>1</th>\n",
       "      <td>9237-HQITU</td>\n",
       "      <td>1</td>\n",
       "      <td>United States</td>\n",
       "      <td>California</td>\n",
       "      <td>Los Angeles</td>\n",
       "      <td>90005</td>\n",
       "      <td>34.059281, -118.30742</td>\n",
       "      <td>34.059281</td>\n",
       "      <td>-118.307420</td>\n",
       "      <td>Female</td>\n",
       "      <td>...</td>\n",
       "      <td>Month-to-month</td>\n",
       "      <td>Yes</td>\n",
       "      <td>Electronic check</td>\n",
       "      <td>70.70</td>\n",
       "      <td>151.65</td>\n",
       "      <td>Yes</td>\n",
       "      <td>1</td>\n",
       "      <td>67</td>\n",
       "      <td>2701</td>\n",
       "      <td>Moved</td>\n",
       "    </tr>\n",
       "    <tr>\n",
       "      <th>2</th>\n",
       "      <td>9305-CDSKC</td>\n",
       "      <td>1</td>\n",
       "      <td>United States</td>\n",
       "      <td>California</td>\n",
       "      <td>Los Angeles</td>\n",
       "      <td>90006</td>\n",
       "      <td>34.048013, -118.293953</td>\n",
       "      <td>34.048013</td>\n",
       "      <td>-118.293953</td>\n",
       "      <td>Female</td>\n",
       "      <td>...</td>\n",
       "      <td>Month-to-month</td>\n",
       "      <td>Yes</td>\n",
       "      <td>Electronic check</td>\n",
       "      <td>99.65</td>\n",
       "      <td>820.50</td>\n",
       "      <td>Yes</td>\n",
       "      <td>1</td>\n",
       "      <td>86</td>\n",
       "      <td>5372</td>\n",
       "      <td>Moved</td>\n",
       "    </tr>\n",
       "    <tr>\n",
       "      <th>3</th>\n",
       "      <td>7892-POOKP</td>\n",
       "      <td>1</td>\n",
       "      <td>United States</td>\n",
       "      <td>California</td>\n",
       "      <td>Los Angeles</td>\n",
       "      <td>90010</td>\n",
       "      <td>34.062125, -118.315709</td>\n",
       "      <td>34.062125</td>\n",
       "      <td>-118.315709</td>\n",
       "      <td>Female</td>\n",
       "      <td>...</td>\n",
       "      <td>Month-to-month</td>\n",
       "      <td>Yes</td>\n",
       "      <td>Electronic check</td>\n",
       "      <td>104.80</td>\n",
       "      <td>3046.05</td>\n",
       "      <td>Yes</td>\n",
       "      <td>1</td>\n",
       "      <td>84</td>\n",
       "      <td>5003</td>\n",
       "      <td>Moved</td>\n",
       "    </tr>\n",
       "    <tr>\n",
       "      <th>4</th>\n",
       "      <td>0280-XJGEX</td>\n",
       "      <td>1</td>\n",
       "      <td>United States</td>\n",
       "      <td>California</td>\n",
       "      <td>Los Angeles</td>\n",
       "      <td>90015</td>\n",
       "      <td>34.039224, -118.266293</td>\n",
       "      <td>34.039224</td>\n",
       "      <td>-118.266293</td>\n",
       "      <td>Male</td>\n",
       "      <td>...</td>\n",
       "      <td>Month-to-month</td>\n",
       "      <td>Yes</td>\n",
       "      <td>Bank transfer (automatic)</td>\n",
       "      <td>103.70</td>\n",
       "      <td>5036.30</td>\n",
       "      <td>Yes</td>\n",
       "      <td>1</td>\n",
       "      <td>89</td>\n",
       "      <td>5340</td>\n",
       "      <td>Competitor had better devices</td>\n",
       "    </tr>\n",
       "  </tbody>\n",
       "</table>\n",
       "<p>5 rows × 33 columns</p>\n",
       "</div>"
      ],
      "text/plain": [
       "   CustomerID  Count        Country       State         City Zip Code  \\\n",
       "0  3668-QPYBK      1  United States  California  Los Angeles    90003   \n",
       "1  9237-HQITU      1  United States  California  Los Angeles    90005   \n",
       "2  9305-CDSKC      1  United States  California  Los Angeles    90006   \n",
       "3  7892-POOKP      1  United States  California  Los Angeles    90010   \n",
       "4  0280-XJGEX      1  United States  California  Los Angeles    90015   \n",
       "\n",
       "                 Lat Long   Latitude   Longitude  Gender  ...        Contract  \\\n",
       "0  33.964131, -118.272783  33.964131 -118.272783    Male  ...  Month-to-month   \n",
       "1   34.059281, -118.30742  34.059281 -118.307420  Female  ...  Month-to-month   \n",
       "2  34.048013, -118.293953  34.048013 -118.293953  Female  ...  Month-to-month   \n",
       "3  34.062125, -118.315709  34.062125 -118.315709  Female  ...  Month-to-month   \n",
       "4  34.039224, -118.266293  34.039224 -118.266293    Male  ...  Month-to-month   \n",
       "\n",
       "  Paperless Billing             Payment Method  Monthly Charges Total Charges  \\\n",
       "0               Yes               Mailed check            53.85        108.15   \n",
       "1               Yes           Electronic check            70.70        151.65   \n",
       "2               Yes           Electronic check            99.65        820.50   \n",
       "3               Yes           Electronic check           104.80       3046.05   \n",
       "4               Yes  Bank transfer (automatic)           103.70       5036.30   \n",
       "\n",
       "  Churn Label Churn Value Churn Score  CLTV                   Churn Reason  \n",
       "0         Yes           1          86  3239   Competitor made better offer  \n",
       "1         Yes           1          67  2701                          Moved  \n",
       "2         Yes           1          86  5372                          Moved  \n",
       "3         Yes           1          84  5003                          Moved  \n",
       "4         Yes           1          89  5340  Competitor had better devices  \n",
       "\n",
       "[5 rows x 33 columns]"
      ]
     },
     "execution_count": 2,
     "metadata": {},
     "output_type": "execute_result"
    }
   ],
   "source": [
    "convertTable = dict()\n",
    "convertTable['Zip Code'] = str\n",
    "df = pd.read_csv ('Telco_customer_churn.csv', dtype = convertTable)\n",
    "df['Total Charges'] = pd.to_numeric(df['Total Charges'] , errors='coerce')\n",
    "df[df['Total Charges'].isnull()==True]\n",
    "df.head()"
   ]
  },
  {
   "cell_type": "markdown",
   "id": "4fb2c09b",
   "metadata": {},
   "source": [
    "### Missing Value "
   ]
  },
  {
   "cell_type": "code",
   "execution_count": 3,
   "id": "280057c3",
   "metadata": {},
   "outputs": [
    {
     "data": {
      "text/html": [
       "<div>\n",
       "<style scoped>\n",
       "    .dataframe tbody tr th:only-of-type {\n",
       "        vertical-align: middle;\n",
       "    }\n",
       "\n",
       "    .dataframe tbody tr th {\n",
       "        vertical-align: top;\n",
       "    }\n",
       "\n",
       "    .dataframe thead th {\n",
       "        text-align: right;\n",
       "    }\n",
       "</style>\n",
       "<table border=\"1\" class=\"dataframe\">\n",
       "  <thead>\n",
       "    <tr style=\"text-align: right;\">\n",
       "      <th></th>\n",
       "      <th>Missing Values</th>\n",
       "      <th>% of Missing Values</th>\n",
       "    </tr>\n",
       "  </thead>\n",
       "  <tbody>\n",
       "    <tr>\n",
       "      <th>Churn Reason</th>\n",
       "      <td>5174</td>\n",
       "      <td>73.5</td>\n",
       "    </tr>\n",
       "    <tr>\n",
       "      <th>Total Charges</th>\n",
       "      <td>11</td>\n",
       "      <td>0.2</td>\n",
       "    </tr>\n",
       "  </tbody>\n",
       "</table>\n",
       "</div>"
      ],
      "text/plain": [
       "               Missing Values  % of Missing Values\n",
       "Churn Reason             5174                 73.5\n",
       "Total Charges              11                  0.2"
      ]
     },
     "execution_count": 3,
     "metadata": {},
     "output_type": "execute_result"
    }
   ],
   "source": [
    "# Calculate the percentage of missing values \n",
    "missing_values = df.isnull().sum()\n",
    "missing_values_percentage = 100 * missing_values / len(df)\n",
    "missing_values_table = pd.concat([missing_values, missing_values_percentage], axis=1)\n",
    "missing_values_table = missing_values_table.rename(columns = {0 : 'Missing Values', 1 : '% of Missing Values'})\n",
    "missing_values_table = missing_values_table[missing_values_table.iloc[:,0] != 0].sort_values('% of Missing Values', ascending=False).round(1)\n",
    "missing_values_table"
   ]
  },
  {
   "cell_type": "code",
   "execution_count": 4,
   "id": "58853de0",
   "metadata": {},
   "outputs": [
    {
     "name": "stdout",
     "output_type": "stream",
     "text": [
      "<class 'pandas.core.frame.DataFrame'>\n",
      "Int64Index: 7032 entries, 0 to 7042\n",
      "Data columns (total 32 columns):\n",
      " #   Column             Non-Null Count  Dtype  \n",
      "---  ------             --------------  -----  \n",
      " 0   CustomerID         7032 non-null   object \n",
      " 1   Count              7032 non-null   int64  \n",
      " 2   Country            7032 non-null   object \n",
      " 3   State              7032 non-null   object \n",
      " 4   City               7032 non-null   object \n",
      " 5   Zip Code           7032 non-null   object \n",
      " 6   Lat Long           7032 non-null   object \n",
      " 7   Latitude           7032 non-null   float64\n",
      " 8   Longitude          7032 non-null   float64\n",
      " 9   Gender             7032 non-null   object \n",
      " 10  Senior Citizen     7032 non-null   object \n",
      " 11  Partner            7032 non-null   object \n",
      " 12  Dependents         7032 non-null   object \n",
      " 13  Tenure Months      7032 non-null   int64  \n",
      " 14  Phone Service      7032 non-null   object \n",
      " 15  Multiple Lines     7032 non-null   object \n",
      " 16  Internet Service   7032 non-null   object \n",
      " 17  Online Security    7032 non-null   object \n",
      " 18  Online Backup      7032 non-null   object \n",
      " 19  Device Protection  7032 non-null   object \n",
      " 20  Tech Support       7032 non-null   object \n",
      " 21  Streaming TV       7032 non-null   object \n",
      " 22  Streaming Movies   7032 non-null   object \n",
      " 23  Contract           7032 non-null   object \n",
      " 24  Paperless Billing  7032 non-null   object \n",
      " 25  Payment Method     7032 non-null   object \n",
      " 26  Monthly Charges    7032 non-null   float64\n",
      " 27  Total Charges      7032 non-null   float64\n",
      " 28  Churn Label        7032 non-null   object \n",
      " 29  Churn Value        7032 non-null   int64  \n",
      " 30  Churn Score        7032 non-null   int64  \n",
      " 31  CLTV               7032 non-null   int64  \n",
      "dtypes: float64(4), int64(5), object(23)\n",
      "memory usage: 1.8+ MB\n"
     ]
    }
   ],
   "source": [
    "# drop missing value\n",
    "df = df.drop(['Churn Reason'], axis=1)\n",
    "df.dropna(how = 'any', inplace = True)\n",
    "df.info()"
   ]
  },
  {
   "cell_type": "code",
   "execution_count": null,
   "id": "66f1be76",
   "metadata": {},
   "outputs": [],
   "source": []
  },
  {
   "cell_type": "markdown",
   "id": "fd0388b7",
   "metadata": {},
   "source": [
    "# Logistic Regression (Full Model)"
   ]
  },
  {
   "cell_type": "markdown",
   "id": "cff936b8",
   "metadata": {},
   "source": [
    "## 1. Prepare Data for Logistic Regression"
   ]
  },
  {
   "cell_type": "code",
   "execution_count": 22,
   "id": "26d51387",
   "metadata": {},
   "outputs": [],
   "source": [
    "import seaborn as sns\n",
    "import matplotlib.pyplot as plt\n",
    "from datetime import datetime\n",
    "from sklearn.model_selection import train_test_split\n",
    "from sklearn.linear_model import LogisticRegression\n",
    "from sklearn.metrics import confusion_matrix\n",
    "from sklearn.metrics import classification_report\n",
    "from sklearn.preprocessing import OneHotEncoder\n",
    "from sklearn.metrics import roc_auc_score\n",
    "from sklearn.metrics import roc_curve\n",
    "from sklearn.metrics import accuracy_score, confusion_matrix, classification_report\n",
    "from sklearn.metrics import precision_score\n",
    "from sklearn.metrics import recall_score\n",
    "from sklearn.metrics import f1_score\n",
    "from sklearn import preprocessing\n",
    "from sklearn.preprocessing import MinMaxScaler\n",
    "from sklearn.preprocessing import scale\n",
    "from sklearn.model_selection import LeaveOneOut\n",
    "from sklearn.model_selection import KFold\n",
    "from sklearn.model_selection import cross_val_score\n",
    "from sklearn.model_selection import learning_curve\n",
    "from numpy import mean\n",
    "# from imblearn.under_sampling import NearMiss\n",
    "from imblearn.over_sampling import SMOTE \n",
    "%matplotlib inline"
   ]
  },
  {
   "cell_type": "code",
   "execution_count": 23,
   "id": "5d0b2798",
   "metadata": {},
   "outputs": [
    {
     "data": {
      "text/html": [
       "<div>\n",
       "<style scoped>\n",
       "    .dataframe tbody tr th:only-of-type {\n",
       "        vertical-align: middle;\n",
       "    }\n",
       "\n",
       "    .dataframe tbody tr th {\n",
       "        vertical-align: top;\n",
       "    }\n",
       "\n",
       "    .dataframe thead th {\n",
       "        text-align: right;\n",
       "    }\n",
       "</style>\n",
       "<table border=\"1\" class=\"dataframe\">\n",
       "  <thead>\n",
       "    <tr style=\"text-align: right;\">\n",
       "      <th></th>\n",
       "      <th>Churn Value</th>\n",
       "      <th>Gender</th>\n",
       "      <th>Senior Citizen</th>\n",
       "      <th>Partner</th>\n",
       "      <th>Dependents</th>\n",
       "      <th>Tenure Months</th>\n",
       "      <th>Phone Service</th>\n",
       "      <th>Multiple Lines</th>\n",
       "      <th>Internet Service</th>\n",
       "      <th>Online Security</th>\n",
       "      <th>Online Backup</th>\n",
       "      <th>Device Protection</th>\n",
       "      <th>Tech Support</th>\n",
       "      <th>Streaming TV</th>\n",
       "      <th>Streaming Movies</th>\n",
       "      <th>Contract</th>\n",
       "      <th>Paperless Billing</th>\n",
       "      <th>Payment Method</th>\n",
       "      <th>Monthly Charges</th>\n",
       "      <th>Total Charges</th>\n",
       "    </tr>\n",
       "  </thead>\n",
       "  <tbody>\n",
       "    <tr>\n",
       "      <th>0</th>\n",
       "      <td>1</td>\n",
       "      <td>Male</td>\n",
       "      <td>No</td>\n",
       "      <td>No</td>\n",
       "      <td>No</td>\n",
       "      <td>2</td>\n",
       "      <td>Yes</td>\n",
       "      <td>No</td>\n",
       "      <td>DSL</td>\n",
       "      <td>Yes</td>\n",
       "      <td>Yes</td>\n",
       "      <td>No</td>\n",
       "      <td>No</td>\n",
       "      <td>No</td>\n",
       "      <td>No</td>\n",
       "      <td>Month-to-month</td>\n",
       "      <td>Yes</td>\n",
       "      <td>Mailed check</td>\n",
       "      <td>53.85</td>\n",
       "      <td>108.15</td>\n",
       "    </tr>\n",
       "    <tr>\n",
       "      <th>1</th>\n",
       "      <td>1</td>\n",
       "      <td>Female</td>\n",
       "      <td>No</td>\n",
       "      <td>No</td>\n",
       "      <td>Yes</td>\n",
       "      <td>2</td>\n",
       "      <td>Yes</td>\n",
       "      <td>No</td>\n",
       "      <td>Fiber optic</td>\n",
       "      <td>No</td>\n",
       "      <td>No</td>\n",
       "      <td>No</td>\n",
       "      <td>No</td>\n",
       "      <td>No</td>\n",
       "      <td>No</td>\n",
       "      <td>Month-to-month</td>\n",
       "      <td>Yes</td>\n",
       "      <td>Electronic check</td>\n",
       "      <td>70.70</td>\n",
       "      <td>151.65</td>\n",
       "    </tr>\n",
       "    <tr>\n",
       "      <th>2</th>\n",
       "      <td>1</td>\n",
       "      <td>Female</td>\n",
       "      <td>No</td>\n",
       "      <td>No</td>\n",
       "      <td>Yes</td>\n",
       "      <td>8</td>\n",
       "      <td>Yes</td>\n",
       "      <td>Yes</td>\n",
       "      <td>Fiber optic</td>\n",
       "      <td>No</td>\n",
       "      <td>No</td>\n",
       "      <td>Yes</td>\n",
       "      <td>No</td>\n",
       "      <td>Yes</td>\n",
       "      <td>Yes</td>\n",
       "      <td>Month-to-month</td>\n",
       "      <td>Yes</td>\n",
       "      <td>Electronic check</td>\n",
       "      <td>99.65</td>\n",
       "      <td>820.50</td>\n",
       "    </tr>\n",
       "    <tr>\n",
       "      <th>3</th>\n",
       "      <td>1</td>\n",
       "      <td>Female</td>\n",
       "      <td>No</td>\n",
       "      <td>Yes</td>\n",
       "      <td>Yes</td>\n",
       "      <td>28</td>\n",
       "      <td>Yes</td>\n",
       "      <td>Yes</td>\n",
       "      <td>Fiber optic</td>\n",
       "      <td>No</td>\n",
       "      <td>No</td>\n",
       "      <td>Yes</td>\n",
       "      <td>Yes</td>\n",
       "      <td>Yes</td>\n",
       "      <td>Yes</td>\n",
       "      <td>Month-to-month</td>\n",
       "      <td>Yes</td>\n",
       "      <td>Electronic check</td>\n",
       "      <td>104.80</td>\n",
       "      <td>3046.05</td>\n",
       "    </tr>\n",
       "    <tr>\n",
       "      <th>4</th>\n",
       "      <td>1</td>\n",
       "      <td>Male</td>\n",
       "      <td>No</td>\n",
       "      <td>No</td>\n",
       "      <td>Yes</td>\n",
       "      <td>49</td>\n",
       "      <td>Yes</td>\n",
       "      <td>Yes</td>\n",
       "      <td>Fiber optic</td>\n",
       "      <td>No</td>\n",
       "      <td>Yes</td>\n",
       "      <td>Yes</td>\n",
       "      <td>No</td>\n",
       "      <td>Yes</td>\n",
       "      <td>Yes</td>\n",
       "      <td>Month-to-month</td>\n",
       "      <td>Yes</td>\n",
       "      <td>Bank transfer (automatic)</td>\n",
       "      <td>103.70</td>\n",
       "      <td>5036.30</td>\n",
       "    </tr>\n",
       "  </tbody>\n",
       "</table>\n",
       "</div>"
      ],
      "text/plain": [
       "   Churn Value  Gender Senior Citizen Partner Dependents  Tenure Months  \\\n",
       "0            1    Male             No      No         No              2   \n",
       "1            1  Female             No      No        Yes              2   \n",
       "2            1  Female             No      No        Yes              8   \n",
       "3            1  Female             No     Yes        Yes             28   \n",
       "4            1    Male             No      No        Yes             49   \n",
       "\n",
       "  Phone Service Multiple Lines Internet Service Online Security Online Backup  \\\n",
       "0           Yes             No              DSL             Yes           Yes   \n",
       "1           Yes             No      Fiber optic              No            No   \n",
       "2           Yes            Yes      Fiber optic              No            No   \n",
       "3           Yes            Yes      Fiber optic              No            No   \n",
       "4           Yes            Yes      Fiber optic              No           Yes   \n",
       "\n",
       "  Device Protection Tech Support Streaming TV Streaming Movies  \\\n",
       "0                No           No           No               No   \n",
       "1                No           No           No               No   \n",
       "2               Yes           No          Yes              Yes   \n",
       "3               Yes          Yes          Yes              Yes   \n",
       "4               Yes           No          Yes              Yes   \n",
       "\n",
       "         Contract Paperless Billing             Payment Method  \\\n",
       "0  Month-to-month               Yes               Mailed check   \n",
       "1  Month-to-month               Yes           Electronic check   \n",
       "2  Month-to-month               Yes           Electronic check   \n",
       "3  Month-to-month               Yes           Electronic check   \n",
       "4  Month-to-month               Yes  Bank transfer (automatic)   \n",
       "\n",
       "   Monthly Charges  Total Charges  \n",
       "0            53.85         108.15  \n",
       "1            70.70         151.65  \n",
       "2            99.65         820.50  \n",
       "3           104.80        3046.05  \n",
       "4           103.70        5036.30  "
      ]
     },
     "execution_count": 23,
     "metadata": {},
     "output_type": "execute_result"
    }
   ],
   "source": [
    "df_logis = df[['Churn Value','Gender','Senior Citizen','Partner','Dependents','Tenure Months','Phone Service','Multiple Lines','Internet Service','Online Security','Online Backup','Device Protection','Tech Support','Streaming TV','Streaming Movies','Contract','Paperless Billing','Payment Method','Monthly Charges','Total Charges']]\n",
    "df_logis.head()"
   ]
  },
  {
   "cell_type": "code",
   "execution_count": 24,
   "id": "c5d34eca",
   "metadata": {},
   "outputs": [
    {
     "name": "stdout",
     "output_type": "stream",
     "text": [
      "0    5163\n",
      "1    1869\n",
      "Name: Churn Value, dtype: int64\n"
     ]
    },
    {
     "name": "stderr",
     "output_type": "stream",
     "text": [
      "C:\\Users\\kornc\\Documents\\anaconda3\\lib\\site-packages\\seaborn\\_decorators.py:36: FutureWarning:\n",
      "\n",
      "Pass the following variable as a keyword arg: x. From version 0.12, the only valid positional argument will be `data`, and passing other arguments without an explicit keyword will result in an error or misinterpretation.\n",
      "\n"
     ]
    },
    {
     "data": {
      "text/plain": [
       "<AxesSubplot:xlabel='Churn Value', ylabel='count'>"
      ]
     },
     "execution_count": 24,
     "metadata": {},
     "output_type": "execute_result"
    },
    {
     "data": {
      "image/png": "[encoded data removed]",
      "text/plain": [
       "<Figure size 432x288 with 1 Axes>"
      ]
     },
     "metadata": {
      "needs_background": "light"
     },
     "output_type": "display_data"
    }
   ],
   "source": [
    "# check weight Churn Yes and No\n",
    "churn_count = pd.value_counts(df_logis['Churn Value'])\n",
    "print(churn_count)\n",
    "sns.countplot(df_logis['Churn Value'], palette=['#488AC7',\"#F75D59\"])"
   ]
  },
  {
   "cell_type": "code",
   "execution_count": 25,
   "id": "f5266ead",
   "metadata": {},
   "outputs": [
    {
     "name": "stdout",
     "output_type": "stream",
     "text": [
      "Index(['Churn Value', 'Tenure Months', 'Monthly Charges', 'Total Charges',\n",
      "       'Gender_Female', 'Gender_Male', 'Senior Citizen_No',\n",
      "       'Senior Citizen_Yes', 'Partner_No', 'Partner_Yes', 'Dependents_No',\n",
      "       'Dependents_Yes', 'Phone Service_No', 'Phone Service_Yes',\n",
      "       'Multiple Lines_No', 'Multiple Lines_No phone service',\n",
      "       'Multiple Lines_Yes', 'Internet Service_DSL',\n",
      "       'Internet Service_Fiber optic', 'Internet Service_No',\n",
      "       'Online Security_No', 'Online Security_No internet service',\n",
      "       'Online Security_Yes', 'Online Backup_No',\n",
      "       'Online Backup_No internet service', 'Online Backup_Yes',\n",
      "       'Device Protection_No', 'Device Protection_No internet service',\n",
      "       'Device Protection_Yes', 'Tech Support_No',\n",
      "       'Tech Support_No internet service', 'Tech Support_Yes',\n",
      "       'Streaming TV_No', 'Streaming TV_No internet service',\n",
      "       'Streaming TV_Yes', 'Streaming Movies_No',\n",
      "       'Streaming Movies_No internet service', 'Streaming Movies_Yes',\n",
      "       'Contract_Month-to-month', 'Contract_One year', 'Contract_Two year',\n",
      "       'Paperless Billing_No', 'Paperless Billing_Yes',\n",
      "       'Payment Method_Bank transfer (automatic)',\n",
      "       'Payment Method_Credit card (automatic)',\n",
      "       'Payment Method_Electronic check', 'Payment Method_Mailed check'],\n",
      "      dtype='object')\n"
     ]
    },
    {
     "data": {
      "text/html": [
       "<div>\n",
       "<style scoped>\n",
       "    .dataframe tbody tr th:only-of-type {\n",
       "        vertical-align: middle;\n",
       "    }\n",
       "\n",
       "    .dataframe tbody tr th {\n",
       "        vertical-align: top;\n",
       "    }\n",
       "\n",
       "    .dataframe thead th {\n",
       "        text-align: right;\n",
       "    }\n",
       "</style>\n",
       "<table border=\"1\" class=\"dataframe\">\n",
       "  <thead>\n",
       "    <tr style=\"text-align: right;\">\n",
       "      <th></th>\n",
       "      <th>Churn Value</th>\n",
       "      <th>Tenure Months</th>\n",
       "      <th>Monthly Charges</th>\n",
       "      <th>Total Charges</th>\n",
       "      <th>Gender_Female</th>\n",
       "      <th>Gender_Male</th>\n",
       "      <th>Senior Citizen_No</th>\n",
       "      <th>Senior Citizen_Yes</th>\n",
       "      <th>Partner_No</th>\n",
       "      <th>Partner_Yes</th>\n",
       "      <th>...</th>\n",
       "      <th>Streaming Movies_Yes</th>\n",
       "      <th>Contract_Month-to-month</th>\n",
       "      <th>Contract_One year</th>\n",
       "      <th>Contract_Two year</th>\n",
       "      <th>Paperless Billing_No</th>\n",
       "      <th>Paperless Billing_Yes</th>\n",
       "      <th>Payment Method_Bank transfer (automatic)</th>\n",
       "      <th>Payment Method_Credit card (automatic)</th>\n",
       "      <th>Payment Method_Electronic check</th>\n",
       "      <th>Payment Method_Mailed check</th>\n",
       "    </tr>\n",
       "  </thead>\n",
       "  <tbody>\n",
       "    <tr>\n",
       "      <th>0</th>\n",
       "      <td>1</td>\n",
       "      <td>2</td>\n",
       "      <td>53.85</td>\n",
       "      <td>108.15</td>\n",
       "      <td>0</td>\n",
       "      <td>1</td>\n",
       "      <td>1</td>\n",
       "      <td>0</td>\n",
       "      <td>1</td>\n",
       "      <td>0</td>\n",
       "      <td>...</td>\n",
       "      <td>0</td>\n",
       "      <td>1</td>\n",
       "      <td>0</td>\n",
       "      <td>0</td>\n",
       "      <td>0</td>\n",
       "      <td>1</td>\n",
       "      <td>0</td>\n",
       "      <td>0</td>\n",
       "      <td>0</td>\n",
       "      <td>1</td>\n",
       "    </tr>\n",
       "    <tr>\n",
       "      <th>1</th>\n",
       "      <td>1</td>\n",
       "      <td>2</td>\n",
       "      <td>70.70</td>\n",
       "      <td>151.65</td>\n",
       "      <td>1</td>\n",
       "      <td>0</td>\n",
       "      <td>1</td>\n",
       "      <td>0</td>\n",
       "      <td>1</td>\n",
       "      <td>0</td>\n",
       "      <td>...</td>\n",
       "      <td>0</td>\n",
       "      <td>1</td>\n",
       "      <td>0</td>\n",
       "      <td>0</td>\n",
       "      <td>0</td>\n",
       "      <td>1</td>\n",
       "      <td>0</td>\n",
       "      <td>0</td>\n",
       "      <td>1</td>\n",
       "      <td>0</td>\n",
       "    </tr>\n",
       "    <tr>\n",
       "      <th>2</th>\n",
       "      <td>1</td>\n",
       "      <td>8</td>\n",
       "      <td>99.65</td>\n",
       "      <td>820.50</td>\n",
       "      <td>1</td>\n",
       "      <td>0</td>\n",
       "      <td>1</td>\n",
       "      <td>0</td>\n",
       "      <td>1</td>\n",
       "      <td>0</td>\n",
       "      <td>...</td>\n",
       "      <td>1</td>\n",
       "      <td>1</td>\n",
       "      <td>0</td>\n",
       "      <td>0</td>\n",
       "      <td>0</td>\n",
       "      <td>1</td>\n",
       "      <td>0</td>\n",
       "      <td>0</td>\n",
       "      <td>1</td>\n",
       "      <td>0</td>\n",
       "    </tr>\n",
       "    <tr>\n",
       "      <th>3</th>\n",
       "      <td>1</td>\n",
       "      <td>28</td>\n",
       "      <td>104.80</td>\n",
       "      <td>3046.05</td>\n",
       "      <td>1</td>\n",
       "      <td>0</td>\n",
       "      <td>1</td>\n",
       "      <td>0</td>\n",
       "      <td>0</td>\n",
       "      <td>1</td>\n",
       "      <td>...</td>\n",
       "      <td>1</td>\n",
       "      <td>1</td>\n",
       "      <td>0</td>\n",
       "      <td>0</td>\n",
       "      <td>0</td>\n",
       "      <td>1</td>\n",
       "      <td>0</td>\n",
       "      <td>0</td>\n",
       "      <td>1</td>\n",
       "      <td>0</td>\n",
       "    </tr>\n",
       "    <tr>\n",
       "      <th>4</th>\n",
       "      <td>1</td>\n",
       "      <td>49</td>\n",
       "      <td>103.70</td>\n",
       "      <td>5036.30</td>\n",
       "      <td>0</td>\n",
       "      <td>1</td>\n",
       "      <td>1</td>\n",
       "      <td>0</td>\n",
       "      <td>1</td>\n",
       "      <td>0</td>\n",
       "      <td>...</td>\n",
       "      <td>1</td>\n",
       "      <td>1</td>\n",
       "      <td>0</td>\n",
       "      <td>0</td>\n",
       "      <td>0</td>\n",
       "      <td>1</td>\n",
       "      <td>1</td>\n",
       "      <td>0</td>\n",
       "      <td>0</td>\n",
       "      <td>0</td>\n",
       "    </tr>\n",
       "  </tbody>\n",
       "</table>\n",
       "<p>5 rows × 47 columns</p>\n",
       "</div>"
      ],
      "text/plain": [
       "   Churn Value  Tenure Months  Monthly Charges  Total Charges  Gender_Female  \\\n",
       "0            1              2            53.85         108.15              0   \n",
       "1            1              2            70.70         151.65              1   \n",
       "2            1              8            99.65         820.50              1   \n",
       "3            1             28           104.80        3046.05              1   \n",
       "4            1             49           103.70        5036.30              0   \n",
       "\n",
       "   Gender_Male  Senior Citizen_No  Senior Citizen_Yes  Partner_No  \\\n",
       "0            1                  1                   0           1   \n",
       "1            0                  1                   0           1   \n",
       "2            0                  1                   0           1   \n",
       "3            0                  1                   0           0   \n",
       "4            1                  1                   0           1   \n",
       "\n",
       "   Partner_Yes  ...  Streaming Movies_Yes  Contract_Month-to-month  \\\n",
       "0            0  ...                     0                        1   \n",
       "1            0  ...                     0                        1   \n",
       "2            0  ...                     1                        1   \n",
       "3            1  ...                     1                        1   \n",
       "4            0  ...                     1                        1   \n",
       "\n",
       "   Contract_One year  Contract_Two year  Paperless Billing_No  \\\n",
       "0                  0                  0                     0   \n",
       "1                  0                  0                     0   \n",
       "2                  0                  0                     0   \n",
       "3                  0                  0                     0   \n",
       "4                  0                  0                     0   \n",
       "\n",
       "   Paperless Billing_Yes  Payment Method_Bank transfer (automatic)  \\\n",
       "0                      1                                         0   \n",
       "1                      1                                         0   \n",
       "2                      1                                         0   \n",
       "3                      1                                         0   \n",
       "4                      1                                         1   \n",
       "\n",
       "   Payment Method_Credit card (automatic)  Payment Method_Electronic check  \\\n",
       "0                                       0                                0   \n",
       "1                                       0                                1   \n",
       "2                                       0                                1   \n",
       "3                                       0                                1   \n",
       "4                                       0                                0   \n",
       "\n",
       "   Payment Method_Mailed check  \n",
       "0                            1  \n",
       "1                            0  \n",
       "2                            0  \n",
       "3                            0  \n",
       "4                            0  \n",
       "\n",
       "[5 rows x 47 columns]"
      ]
     },
     "execution_count": 25,
     "metadata": {},
     "output_type": "execute_result"
    }
   ],
   "source": [
    "# get dummy into dataframe\n",
    "dummy_df_logis = pd.get_dummies(df_logis)\n",
    "print(dummy_df_logis.columns)\n",
    "dummy_df_logis.head()"
   ]
  },
  {
   "cell_type": "code",
   "execution_count": 26,
   "id": "d4aa0681",
   "metadata": {},
   "outputs": [],
   "source": [
    "y = dummy_df_logis['Churn Value']\n",
    "X = dummy_df_logis.drop('Churn Value', axis=1)"
   ]
  },
  {
   "cell_type": "code",
   "execution_count": 27,
   "id": "f92c9bcf",
   "metadata": {},
   "outputs": [
    {
     "data": {
      "text/plain": [
       "(7032, 46)"
      ]
     },
     "execution_count": 27,
     "metadata": {},
     "output_type": "execute_result"
    }
   ],
   "source": [
    "X.shape"
   ]
  },
  {
   "cell_type": "markdown",
   "id": "45ef6185",
   "metadata": {},
   "source": [
    "## 2. modeling (Logistic Regression: Full Model)"
   ]
  },
  {
   "cell_type": "markdown",
   "id": "67ff957d",
   "metadata": {},
   "source": [
    "### 2.1 compare accuracy rate \"Non-Resampling Model\" vs \"Resampling Model\""
   ]
  },
  {
   "cell_type": "markdown",
   "id": "51d8f8fa",
   "metadata": {},
   "source": [
    "#### \"Non-Resampling Model\""
   ]
  },
  {
   "cell_type": "code",
   "execution_count": 28,
   "id": "f434d608",
   "metadata": {},
   "outputs": [
    {
     "data": {
      "text/plain": [
       "array([[1011,  533],\n",
       "       [  84,  482]], dtype=int64)"
      ]
     },
     "execution_count": 28,
     "metadata": {},
     "output_type": "execute_result"
    }
   ],
   "source": [
    "# normalization\n",
    "mm = preprocessing.StandardScaler()\n",
    "X = pd.DataFrame(mm.fit_transform(X))\n",
    "\n",
    "# Train-Test-Split\n",
    "X_train, X_test, y_train, y_test = train_test_split(X, y, test_size = .3, random_state = 100)\n",
    "\n",
    "#Build model\n",
    "logreg = LogisticRegression(class_weight={0:0.2,1:0.8},max_iter=100,penalty='none')\n",
    "logreg.fit(X_train, y_train)\n",
    "\n",
    "# predict future values\n",
    "y_pred = logreg.predict(X_test)\n",
    "\n",
    "# Confusion Matrix\n",
    "\n",
    "from sklearn.metrics import confusion_matrix\n",
    "# Pass actual test and predicted target test outcomes to function\n",
    "cnf_matrix = confusion_matrix(y_test, y_pred)\n",
    "cnf_matrix"
   ]
  },
  {
   "cell_type": "code",
   "execution_count": 29,
   "id": "6becc880",
   "metadata": {},
   "outputs": [
    {
     "name": "stdout",
     "output_type": "stream",
     "text": [
      "Accuracy of logistic regression classifier on test set: 0.71\n",
      "accuracy score is:  0.7075829383886256\n",
      "roc auc score is:  0.7531914260605284\n",
      "precision score is:  0.4748768472906404\n",
      "recall score is:  0.8515901060070671\n"
     ]
    }
   ],
   "source": [
    "print('Accuracy of logistic regression classifier on test set: {:.2f}'.format(logreg.score(X_test,y_test)))\n",
    "print('accuracy score is: ', accuracy_score(y_test,y_pred))\n",
    "print('roc auc score is: ', roc_auc_score(y_test,y_pred))\n",
    "print('precision score is: ',precision_score(y_test,y_pred))\n",
    "print('recall score is: ', recall_score(y_test,y_pred))\n"
   ]
  },
  {
   "cell_type": "markdown",
   "id": "5f50fd1f",
   "metadata": {},
   "source": [
    "#### \"Resampling Model\""
   ]
  },
  {
   "cell_type": "code",
   "execution_count": 30,
   "id": "e99613b3",
   "metadata": {},
   "outputs": [
    {
     "data": {
      "text/plain": [
       "array([[ 772,  781],\n",
       "       [  64, 1481]], dtype=int64)"
      ]
     },
     "execution_count": 30,
     "metadata": {},
     "output_type": "execute_result"
    }
   ],
   "source": [
    "# แก้ปัญหา Imbalance classification ด้วยวิธีการ Oversampling\n",
    "sm = SMOTE(random_state=100)\n",
    "X_resampled, y_resampled = sm.fit_resample(X,y)\n",
    "\n",
    "# normalization\n",
    "mm = preprocessing.StandardScaler()\n",
    "X = pd.DataFrame(mm.fit_transform(X))\n",
    "\n",
    "# Train-Test-Split\n",
    "X_train, X_test, y_train, y_test = train_test_split(X_resampled, y_resampled, test_size = .3, random_state = 100)\n",
    "\n",
    "#Build model\n",
    "logreg_resam = LogisticRegression(class_weight={0:0.2,1:0.8},max_iter=100,penalty='none')\n",
    "logreg_resam.fit(X_train, y_train)\n",
    "\n",
    "# predict future values\n",
    "y_pred_resam = logreg_resam.predict(X_test)\n",
    "\n",
    "cnf_matrix = confusion_matrix(y_test, y_pred_resam)\n",
    "cnf_matrix"
   ]
  },
  {
   "cell_type": "code",
   "execution_count": 31,
   "id": "2c833c9a",
   "metadata": {},
   "outputs": [
    {
     "name": "stdout",
     "output_type": "stream",
     "text": [
      "Accuracy of logistic regression classifier on test set: 0.73\n",
      "accuracy score is:  0.7272433828276307\n",
      "roc auc score is:  0.7278392171327236\n",
      "precision score is:  0.6547303271441203\n",
      "recall score is:  0.9585760517799353\n"
     ]
    }
   ],
   "source": [
    "print('Accuracy of logistic regression classifier on test set: {:.2f}'.format(logreg_resam.score(X_test,y_test)))\n",
    "print('accuracy score is: ', accuracy_score(y_test,y_pred_resam))\n",
    "print('roc auc score is: ', roc_auc_score(y_test,y_pred_resam))\n",
    "print('precision score is: ',precision_score(y_test,y_pred_resam))\n",
    "print('recall score is: ', recall_score(y_test,y_pred_resam))"
   ]
  },
  {
   "cell_type": "markdown",
   "id": "d23f5d68",
   "metadata": {},
   "source": [
    "## 3. Evaluate Model"
   ]
  },
  {
   "cell_type": "code",
   "execution_count": 32,
   "id": "18c5066b",
   "metadata": {},
   "outputs": [
    {
     "name": "stdout",
     "output_type": "stream",
     "text": [
      "Accuracy of logistic regression classifier on test set: 0.73\n",
      "accuracy score is:  0.7272433828276307\n",
      "roc auc score is:  0.7278392171327236\n",
      "precision score is:  0.6547303271441203\n",
      "recall score is:  0.9585760517799353\n",
      "              precision    recall  f1-score   support\n",
      "\n",
      "           0       0.92      0.50      0.65      1553\n",
      "           1       0.65      0.96      0.78      1545\n",
      "\n",
      "    accuracy                           0.73      3098\n",
      "   macro avg       0.79      0.73      0.71      3098\n",
      "weighted avg       0.79      0.73      0.71      3098\n",
      "\n"
     ]
    }
   ],
   "source": [
    "print('Accuracy of logistic regression classifier on test set: {:.2f}'.format(logreg_resam.score(X_test,y_test)))\n",
    "print('accuracy score is: ', accuracy_score(y_test,y_pred_resam))\n",
    "print('roc auc score is: ', roc_auc_score(y_test,y_pred_resam))\n",
    "print('precision score is: ',precision_score(y_test,y_pred_resam))\n",
    "print('recall score is: ', recall_score(y_test,y_pred_resam))\n",
    "print(classification_report(y_test,y_pred_resam))"
   ]
  },
  {
   "cell_type": "code",
   "execution_count": 33,
   "id": "8fd0f6f0",
   "metadata": {},
   "outputs": [
    {
     "data": {
      "image/png": "[encoded data removed]",
      "text/plain": [
       "<Figure size 432x288 with 1 Axes>"
      ]
     },
     "metadata": {
      "needs_background": "light"
     },
     "output_type": "display_data"
    }
   ],
   "source": [
    "from sklearn.metrics import roc_auc_score\n",
    "from sklearn.metrics import roc_curve\n",
    "logit_roc_auc = roc_auc_score(y_test, logreg_resam.predict(X_test))\n",
    "fpr, tpr, thresholds = roc_curve(y_test, logreg_resam.predict_proba(X_test)[:,1])\n",
    "plt.figure()\n",
    "plt.plot(fpr, tpr, label='Logistic Regression (area = %0.2f)' % logit_roc_auc)\n",
    "plt.plot([0, 1], [0, 1],'r--')\n",
    "plt.xlim([0.0, 1.0])\n",
    "plt.ylim([0.0, 1.05])\n",
    "plt.xlabel('False Positive Rate')\n",
    "plt.ylabel('True Positive Rate')\n",
    "plt.title('Receiver operating characteristic')\n",
    "plt.legend(loc=\"lower right\")\n",
    "plt.savefig('Log_ROC')\n",
    "plt.show()"
   ]
  },
  {
   "cell_type": "markdown",
   "id": "3539a622",
   "metadata": {},
   "source": [
    "## 4. Improve Model"
   ]
  },
  {
   "cell_type": "code",
   "execution_count": 299,
   "id": "a83d5799",
   "metadata": {},
   "outputs": [
    {
     "name": "stdout",
     "output_type": "stream",
     "text": [
      "-> folds=2, accuracy=0.810 (0.800,0.819)\n",
      "-> folds=3, accuracy=0.813 (0.797,0.823)\n",
      "-> folds=4, accuracy=0.810 (0.794,0.822)\n",
      "-> folds=5, accuracy=0.809 (0.797,0.817)\n",
      "-> folds=6, accuracy=0.810 (0.794,0.823)\n",
      "-> folds=7, accuracy=0.810 (0.793,0.822)\n",
      "-> folds=8, accuracy=0.811 (0.787,0.835)\n",
      "-> folds=9, accuracy=0.811 (0.797,0.823)\n",
      "-> folds=10, accuracy=0.809 (0.790,0.824)\n",
      "-> folds=11, accuracy=0.810 (0.784,0.831)\n",
      "-> folds=12, accuracy=0.810 (0.776,0.831)\n",
      "-> folds=13, accuracy=0.809 (0.780,0.843)\n",
      "-> folds=14, accuracy=0.809 (0.775,0.841)\n",
      "-> folds=15, accuracy=0.810 (0.772,0.842)\n",
      "-> folds=16, accuracy=0.810 (0.773,0.838)\n",
      "-> folds=17, accuracy=0.810 (0.768,0.855)\n",
      "-> folds=18, accuracy=0.810 (0.760,0.851)\n",
      "-> folds=19, accuracy=0.810 (0.760,0.843)\n",
      "-> folds=20, accuracy=0.810 (0.770,0.846)\n",
      "-> folds=21, accuracy=0.811 (0.764,0.848)\n",
      "-> folds=22, accuracy=0.811 (0.778,0.843)\n",
      "-> folds=23, accuracy=0.810 (0.768,0.853)\n",
      "-> folds=24, accuracy=0.810 (0.768,0.857)\n",
      "-> folds=25, accuracy=0.810 (0.745,0.851)\n",
      "-> folds=26, accuracy=0.810 (0.768,0.856)\n",
      "-> folds=27, accuracy=0.809 (0.759,0.851)\n",
      "-> folds=28, accuracy=0.811 (0.761,0.876)\n",
      "-> folds=29, accuracy=0.811 (0.765,0.855)\n",
      "-> folds=30, accuracy=0.811 (0.745,0.880)\n"
     ]
    }
   ],
   "source": [
    "def evaluate_model(cv):\n",
    "  # get the model\n",
    "  model = LogisticRegression(solver = 'liblinear',max_iter=100)\n",
    "  # evaluate the model\n",
    "  scores = cross_val_score(model, X, y, scoring='accuracy', cv=cv, n_jobs=-1)\n",
    "  # return scores\n",
    "  return mean(scores), scores.min(), scores.max()\n",
    "\n",
    "folds = range(2,31)\n",
    "for k in folds:\n",
    "    # define the test condition\n",
    "    cv = KFold(n_splits=k, shuffle=True, random_state=10)\n",
    "    # record mean and min/max of each set of results\n",
    "    k_mean, k_min, k_max = evaluate_model(cv)\n",
    "    # report performance\n",
    "    print('-> folds=%d, accuracy=%.3f (%.3f,%.3f)' % (k, k_mean, k_min, k_max))"
   ]
  },
  {
   "cell_type": "code",
   "execution_count": 35,
   "id": "972e461e",
   "metadata": {},
   "outputs": [
    {
     "name": "stdout",
     "output_type": "stream",
     "text": [
      "Duration: 0:05:33.747037\n"
     ]
    }
   ],
   "source": [
    "from sklearn.model_selection import StratifiedKFold\n",
    "from sklearn.model_selection import GridSearchCV\n",
    "start_time = datetime.now()\n",
    "\n",
    "#Hyperparameter tuning\n",
    "# define model/create instance\n",
    "lr=LogisticRegression(solver = 'liblinear',max_iter=100)\n",
    "\n",
    "#tuning weight for minority class then weight for majority class will be 1-weight of minority class\n",
    "#Setting the range for class weights\n",
    "weights = np.linspace(0.0,0.99,500)\n",
    "\n",
    "#specifying all hyperparameters with possible values\n",
    "param= {'C': [0.1, 0.5, 1,10,15,20], \n",
    "        'penalty': ['l2'],\n",
    "        \"class_weight\":[{0:x ,1:1.0 -x} for x in weights]}\n",
    "\n",
    "# create 3 folds\n",
    "folds = StratifiedKFold(n_splits = 3, shuffle = True, random_state = 100)\n",
    "\n",
    "#Gridsearch for hyperparam tuning\n",
    "model= GridSearchCV(estimator= lr,\n",
    "                    param_grid=param, \n",
    "                    scoring=\"f1\",\n",
    "                    cv=folds,return_train_score=True)\n",
    "\n",
    "#train model to learn relationships between x and y\n",
    "model.fit(X_train,y_train)\n",
    "\n",
    "end_time = datetime.now()\n",
    "print('Duration: {}'.format(end_time - start_time))"
   ]
  },
  {
   "cell_type": "code",
   "execution_count": 36,
   "id": "ab29d98c",
   "metadata": {},
   "outputs": [
    {
     "name": "stdout",
     "output_type": "stream",
     "text": [
      "Best F1 score:  0.7998392178999253\n",
      "Best hyperparameters:  {'C': 0.5, 'class_weight': {0: 0.43845691382765534, 1: 0.5615430861723447}, 'penalty': 'l2'}\n"
     ]
    }
   ],
   "source": [
    "# print best hyperparameters\n",
    "print(\"Best F1 score: \", model.best_score_)\n",
    "print(\"Best hyperparameters: \", model.best_params_)"
   ]
  },
  {
   "cell_type": "code",
   "execution_count": 37,
   "id": "603d0458",
   "metadata": {},
   "outputs": [
    {
     "data": {
      "text/plain": [
       "LogisticRegression(C=0.5, class_weight={0: 0.44, 1: 0.56})"
      ]
     },
     "execution_count": 37,
     "metadata": {},
     "output_type": "execute_result"
    }
   ],
   "source": [
    "#Building Model again with best params\n",
    "lr2=LogisticRegression(class_weight={0:0.44,1:0.56},C=0.5,penalty=\"l2\")\n",
    "lr2.fit(X_train,y_train)"
   ]
  },
  {
   "cell_type": "code",
   "execution_count": 38,
   "id": "2dcada97",
   "metadata": {},
   "outputs": [
    {
     "data": {
      "text/plain": [
       "<matplotlib.legend.Legend at 0x2bcb3ed5a00>"
      ]
     },
     "execution_count": 38,
     "metadata": {},
     "output_type": "execute_result"
    },
    {
     "data": {
      "image/png": "[encoded data removed]",
      "text/plain": [
       "<Figure size 432x288 with 1 Axes>"
      ]
     },
     "metadata": {
      "needs_background": "light"
     },
     "output_type": "display_data"
    }
   ],
   "source": [
    "train_sizes, train_scores, test_scores = learning_curve(lr2,X_train, y_train, cv = 3, train_sizes = [1, 30,100,300,520])\n",
    "train_scores_mean = np.mean(train_scores, axis=1)\n",
    "train_scores_std = np.std(train_scores, axis=1)\n",
    "test_scores_mean = np.mean(test_scores, axis=1)\n",
    "test_scores_std = np.std(test_scores, axis=1)\n",
    "\n",
    "plt.grid()\n",
    "\n",
    "plt.fill_between(train_sizes, train_scores_mean - train_scores_std,\n",
    "                  train_scores_mean + train_scores_std, alpha=0.1,\n",
    "                  color=\"r\")\n",
    "plt.fill_between(train_sizes, test_scores_mean - test_scores_std,\n",
    "                  test_scores_mean + test_scores_std, alpha=0.1, color=\"g\")\n",
    "plt.plot(train_sizes, train_scores_mean, 'o-', color=\"r\",\n",
    "          label=\"Training score\")\n",
    "plt.plot(train_sizes, test_scores_mean, 'o-', color=\"g\",\n",
    "          label=\"Cross-validation score\")\n",
    "\n",
    "plt.legend(loc=\"best\")"
   ]
  },
  {
   "cell_type": "markdown",
   "id": "55dfad81",
   "metadata": {},
   "source": [
    "- Learning curve of a good fit model has a moderately high training loss at the beginning which gradually decreases upon adding training examples and flattens gradually, indicating addition of more training examples doesn’t improve the model performance on training data.\n",
    "- Interpreting the validation loss\n",
    "     Learning curve of a good fit model has a high validation loss at the beginning which gradually decreases upon adding training examples and flattens gradually, indicating addition of more training examples doesn’t improve the model performance on unseen data.\n",
    "\n",
    "    We can also see that upon adding a reasonable number of training examples, both the training and validation loss moved close to each other.\n",
    "\n",
    "\n",
    "- Typical features of the learning curve of a good fit model\n",
    "1. Training loss and Validation loss are close to each other with validation loss being slightly greater than the training loss.\n",
    "2. Initially decreasing training and validation loss and a pretty flat training and validation loss after some point till the end."
   ]
  },
  {
   "cell_type": "code",
   "execution_count": 40,
   "id": "0f860a98",
   "metadata": {
    "scrolled": true
   },
   "outputs": [
    {
     "name": "stdout",
     "output_type": "stream",
     "text": [
      "confusion Matrix is :nn [[1072  481]\n",
      " [ 187 1358]]\n",
      "n\n",
      "accuracy score is:  0.7843770174306004\n",
      "ROC-AUC score  test dataset:  t 0.8637419588769623\n",
      "precision score  test dataset:  t 0.7384448069603046\n",
      "Recall score  test dataset:  t 0.8789644012944984\n",
      "f1 score  test dataset :  t 0.8026004728132388\n",
      "              precision    recall  f1-score   support\n",
      "\n",
      "           0       0.85      0.69      0.76      1553\n",
      "           1       0.74      0.88      0.80      1545\n",
      "\n",
      "    accuracy                           0.78      3098\n",
      "   macro avg       0.79      0.78      0.78      3098\n",
      "weighted avg       0.80      0.78      0.78      3098\n",
      "\n"
     ]
    }
   ],
   "source": [
    "# Evaluating on Test Set\n",
    "# predict probabilities on Test and take probability for class 1([:1])\n",
    "y_pred_prob_test = lr2.predict_proba(X_test)[:, 1]\n",
    "#predict labels on test dataset\n",
    "y_pred_test = lr2.predict(X_test)\n",
    "# create onfusion matrix\n",
    "cm = confusion_matrix(y_test, y_pred_test)\n",
    "print(\"confusion Matrix is :nn\",cm)\n",
    "print(\"n\")\n",
    "# Accuracy score\n",
    "print('accuracy score is: ', accuracy_score(y_test,y_pred_test))\n",
    "# ROC- AUC score\n",
    "print(\"ROC-AUC score  test dataset:  t\", roc_auc_score(y_test,y_pred_prob_test))\n",
    "#Precision score\n",
    "print(\"precision score  test dataset:  t\", precision_score(y_test,y_pred_test))\n",
    "#Recall Score\n",
    "print(\"Recall score  test dataset:  t\", recall_score(y_test,y_pred_test))\n",
    "#f1 score\n",
    "print(\"f1 score  test dataset :  t\", f1_score(y_test,y_pred_test))\n",
    "print(classification_report(y_test,y_pred_test))"
   ]
  },
  {
   "cell_type": "markdown",
   "id": "30fec404",
   "metadata": {},
   "source": [
    "## Predict risk of customer churn"
   ]
  },
  {
   "cell_type": "markdown",
   "id": "3ed053b7",
   "metadata": {},
   "source": [
    "### sampling customer for prediction"
   ]
  },
  {
   "cell_type": "code",
   "execution_count": 133,
   "id": "8dac4864",
   "metadata": {},
   "outputs": [
    {
     "data": {
      "text/plain": [
       "RangeIndex(start=0, stop=46, step=1)"
      ]
     },
     "execution_count": 133,
     "metadata": {},
     "output_type": "execute_result"
    }
   ],
   "source": [
    "X_test.columns"
   ]
  },
  {
   "cell_type": "markdown",
   "id": "859a96ab",
   "metadata": {},
   "source": [
    "#### customer no.3"
   ]
  },
  {
   "cell_type": "code",
   "execution_count": 158,
   "id": "1202c378",
   "metadata": {},
   "outputs": [
    {
     "name": "stdout",
     "output_type": "stream",
     "text": [
      "actual churn is  1\n"
     ]
    },
    {
     "data": {
      "text/html": [
       "<div>\n",
       "<style scoped>\n",
       "    .dataframe tbody tr th:only-of-type {\n",
       "        vertical-align: middle;\n",
       "    }\n",
       "\n",
       "    .dataframe tbody tr th {\n",
       "        vertical-align: top;\n",
       "    }\n",
       "\n",
       "    .dataframe thead th {\n",
       "        text-align: right;\n",
       "    }\n",
       "</style>\n",
       "<table border=\"1\" class=\"dataframe\">\n",
       "  <thead>\n",
       "    <tr style=\"text-align: right;\">\n",
       "      <th></th>\n",
       "      <th>0</th>\n",
       "      <th>1</th>\n",
       "      <th>2</th>\n",
       "      <th>3</th>\n",
       "      <th>4</th>\n",
       "      <th>5</th>\n",
       "      <th>6</th>\n",
       "      <th>7</th>\n",
       "      <th>8</th>\n",
       "      <th>9</th>\n",
       "      <th>...</th>\n",
       "      <th>36</th>\n",
       "      <th>37</th>\n",
       "      <th>38</th>\n",
       "      <th>39</th>\n",
       "      <th>40</th>\n",
       "      <th>41</th>\n",
       "      <th>42</th>\n",
       "      <th>43</th>\n",
       "      <th>44</th>\n",
       "      <th>45</th>\n",
       "    </tr>\n",
       "  </thead>\n",
       "  <tbody>\n",
       "    <tr>\n",
       "      <th>0</th>\n",
       "      <td>28.0</td>\n",
       "      <td>104.8</td>\n",
       "      <td>3046.05</td>\n",
       "      <td>1.0</td>\n",
       "      <td>0.0</td>\n",
       "      <td>1.0</td>\n",
       "      <td>0.0</td>\n",
       "      <td>0.0</td>\n",
       "      <td>1.0</td>\n",
       "      <td>0.0</td>\n",
       "      <td>...</td>\n",
       "      <td>1.0</td>\n",
       "      <td>1.0</td>\n",
       "      <td>0.0</td>\n",
       "      <td>0.0</td>\n",
       "      <td>0.0</td>\n",
       "      <td>1.0</td>\n",
       "      <td>0.0</td>\n",
       "      <td>0.0</td>\n",
       "      <td>1.0</td>\n",
       "      <td>0.0</td>\n",
       "    </tr>\n",
       "  </tbody>\n",
       "</table>\n",
       "<p>1 rows × 46 columns</p>\n",
       "</div>"
      ],
      "text/plain": [
       "     0      1        2    3    4    5    6    7    8    9   ...   36   37  \\\n",
       "0  28.0  104.8  3046.05  1.0  0.0  1.0  0.0  0.0  1.0  0.0  ...  1.0  1.0   \n",
       "\n",
       "    38   39   40   41   42   43   44   45  \n",
       "0  0.0  0.0  0.0  1.0  0.0  0.0  1.0  0.0  \n",
       "\n",
       "[1 rows x 46 columns]"
      ]
     },
     "execution_count": 158,
     "metadata": {},
     "output_type": "execute_result"
    }
   ],
   "source": [
    "# no.3 of customer\n",
    "print(\"actual churn is \",dummy_df_logis.iloc[3,0])\n",
    "p = list(dummy_df_logis.iloc[3,1:])\n",
    "p = pd.DataFrame(data=p)\n",
    "p = p.T\n",
    "p[:5]"
   ]
  },
  {
   "cell_type": "code",
   "execution_count": 159,
   "id": "6e1dfa14",
   "metadata": {},
   "outputs": [
    {
     "name": "stdout",
     "output_type": "stream",
     "text": [
      "predict churn is  1\n"
     ]
    }
   ],
   "source": [
    "output = lr2.predict(p)\n",
    "print('predict churn is ', output[0])"
   ]
  },
  {
   "cell_type": "markdown",
   "id": "ec5f07c0",
   "metadata": {},
   "source": [
    "#### customer no.7014 "
   ]
  },
  {
   "cell_type": "code",
   "execution_count": 160,
   "id": "41af20a2",
   "metadata": {},
   "outputs": [
    {
     "name": "stdout",
     "output_type": "stream",
     "text": [
      "actual churn is  0\n",
      "predict churn is  1\n"
     ]
    }
   ],
   "source": [
    "# customer no.7014\n",
    "print(\"actual churn is \",dummy_df_logis.iloc[7014,0]) #change no here\n",
    "p = list(dummy_df_logis.iloc[7014,1:]) #change no here\n",
    "p = pd.DataFrame(data=p)\n",
    "p = p.T\n",
    "output = lr2.predict(p)\n",
    "print('predict churn is ', output[0])"
   ]
  },
  {
   "cell_type": "markdown",
   "id": "b453bf33",
   "metadata": {},
   "source": [
    "#### customer no.555 "
   ]
  },
  {
   "cell_type": "code",
   "execution_count": 161,
   "id": "b9e0122c",
   "metadata": {},
   "outputs": [
    {
     "name": "stdout",
     "output_type": "stream",
     "text": [
      "actual churn is  1\n",
      "predict churn is  1\n"
     ]
    }
   ],
   "source": [
    "# customer no.555 \n",
    "print(\"actual churn is \",dummy_df_logis.iloc[555,0]) #change no here\n",
    "p = list(dummy_df_logis.iloc[555,1:]) #change no here\n",
    "p = pd.DataFrame(data=p)\n",
    "p = p.T\n",
    "output = lr2.predict(p)\n",
    "print('predict churn is ', output[0])"
   ]
  },
  {
   "cell_type": "markdown",
   "id": "bc28b11a",
   "metadata": {},
   "source": [
    "#### customer no.678 "
   ]
  },
  {
   "cell_type": "code",
   "execution_count": 162,
   "id": "10b294d3",
   "metadata": {},
   "outputs": [
    {
     "name": "stdout",
     "output_type": "stream",
     "text": [
      "actual churn is  1\n",
      "predict churn is  1\n"
     ]
    }
   ],
   "source": [
    "# customer no.678 \n",
    "print(\"actual churn is \",dummy_df_logis.iloc[678,0]) #change no here\n",
    "p = list(dummy_df_logis.iloc[678,1:]) #change no here\n",
    "p = pd.DataFrame(data=p)\n",
    "p = p.T\n",
    "output = lr2.predict(p)\n",
    "print('predict churn is ', output[0])"
   ]
  },
  {
   "cell_type": "markdown",
   "id": "3170df8d",
   "metadata": {},
   "source": [
    "### Example 4 customers, 3 of 4 is correct."
   ]
  },
  {
   "cell_type": "markdown",
   "id": "8066bfd8",
   "metadata": {},
   "source": [
    "# --------------------------------------------------------------------------------------------"
   ]
  },
  {
   "cell_type": "code",
   "execution_count": null,
   "id": "3b02de66",
   "metadata": {},
   "outputs": [],
   "source": []
  },
  {
   "cell_type": "code",
   "execution_count": null,
   "id": "cb4ca2ee",
   "metadata": {},
   "outputs": [],
   "source": []
  },
  {
   "cell_type": "markdown",
   "id": "95f31ab5",
   "metadata": {},
   "source": [
    "# Logistic Regression (Reduced Model)"
   ]
  },
  {
   "cell_type": "code",
   "execution_count": 8,
   "id": "49d795c6",
   "metadata": {},
   "outputs": [],
   "source": [
    "from sklearn.feature_selection import RFE"
   ]
  },
  {
   "cell_type": "markdown",
   "id": "b95b7a16",
   "metadata": {},
   "source": [
    "## 1. Prepare Data for Logistic Regression"
   ]
  },
  {
   "cell_type": "code",
   "execution_count": 7,
   "id": "eb02f74a",
   "metadata": {},
   "outputs": [
    {
     "data": {
      "text/html": [
       "<div>\n",
       "<style scoped>\n",
       "    .dataframe tbody tr th:only-of-type {\n",
       "        vertical-align: middle;\n",
       "    }\n",
       "\n",
       "    .dataframe tbody tr th {\n",
       "        vertical-align: top;\n",
       "    }\n",
       "\n",
       "    .dataframe thead th {\n",
       "        text-align: right;\n",
       "    }\n",
       "</style>\n",
       "<table border=\"1\" class=\"dataframe\">\n",
       "  <thead>\n",
       "    <tr style=\"text-align: right;\">\n",
       "      <th></th>\n",
       "      <th>Churn Value</th>\n",
       "      <th>Gender</th>\n",
       "      <th>Senior Citizen</th>\n",
       "      <th>Partner</th>\n",
       "      <th>Dependents</th>\n",
       "      <th>Tenure Months</th>\n",
       "      <th>Phone Service</th>\n",
       "      <th>Multiple Lines</th>\n",
       "      <th>Internet Service</th>\n",
       "      <th>Online Security</th>\n",
       "      <th>Online Backup</th>\n",
       "      <th>Device Protection</th>\n",
       "      <th>Tech Support</th>\n",
       "      <th>Streaming TV</th>\n",
       "      <th>Streaming Movies</th>\n",
       "      <th>Contract</th>\n",
       "      <th>Paperless Billing</th>\n",
       "      <th>Payment Method</th>\n",
       "      <th>Monthly Charges</th>\n",
       "      <th>Total Charges</th>\n",
       "    </tr>\n",
       "  </thead>\n",
       "  <tbody>\n",
       "    <tr>\n",
       "      <th>0</th>\n",
       "      <td>1</td>\n",
       "      <td>Male</td>\n",
       "      <td>No</td>\n",
       "      <td>No</td>\n",
       "      <td>No</td>\n",
       "      <td>2</td>\n",
       "      <td>Yes</td>\n",
       "      <td>No</td>\n",
       "      <td>DSL</td>\n",
       "      <td>Yes</td>\n",
       "      <td>Yes</td>\n",
       "      <td>No</td>\n",
       "      <td>No</td>\n",
       "      <td>No</td>\n",
       "      <td>No</td>\n",
       "      <td>Month-to-month</td>\n",
       "      <td>Yes</td>\n",
       "      <td>Mailed check</td>\n",
       "      <td>53.85</td>\n",
       "      <td>108.15</td>\n",
       "    </tr>\n",
       "    <tr>\n",
       "      <th>1</th>\n",
       "      <td>1</td>\n",
       "      <td>Female</td>\n",
       "      <td>No</td>\n",
       "      <td>No</td>\n",
       "      <td>Yes</td>\n",
       "      <td>2</td>\n",
       "      <td>Yes</td>\n",
       "      <td>No</td>\n",
       "      <td>Fiber optic</td>\n",
       "      <td>No</td>\n",
       "      <td>No</td>\n",
       "      <td>No</td>\n",
       "      <td>No</td>\n",
       "      <td>No</td>\n",
       "      <td>No</td>\n",
       "      <td>Month-to-month</td>\n",
       "      <td>Yes</td>\n",
       "      <td>Electronic check</td>\n",
       "      <td>70.70</td>\n",
       "      <td>151.65</td>\n",
       "    </tr>\n",
       "    <tr>\n",
       "      <th>2</th>\n",
       "      <td>1</td>\n",
       "      <td>Female</td>\n",
       "      <td>No</td>\n",
       "      <td>No</td>\n",
       "      <td>Yes</td>\n",
       "      <td>8</td>\n",
       "      <td>Yes</td>\n",
       "      <td>Yes</td>\n",
       "      <td>Fiber optic</td>\n",
       "      <td>No</td>\n",
       "      <td>No</td>\n",
       "      <td>Yes</td>\n",
       "      <td>No</td>\n",
       "      <td>Yes</td>\n",
       "      <td>Yes</td>\n",
       "      <td>Month-to-month</td>\n",
       "      <td>Yes</td>\n",
       "      <td>Electronic check</td>\n",
       "      <td>99.65</td>\n",
       "      <td>820.50</td>\n",
       "    </tr>\n",
       "    <tr>\n",
       "      <th>3</th>\n",
       "      <td>1</td>\n",
       "      <td>Female</td>\n",
       "      <td>No</td>\n",
       "      <td>Yes</td>\n",
       "      <td>Yes</td>\n",
       "      <td>28</td>\n",
       "      <td>Yes</td>\n",
       "      <td>Yes</td>\n",
       "      <td>Fiber optic</td>\n",
       "      <td>No</td>\n",
       "      <td>No</td>\n",
       "      <td>Yes</td>\n",
       "      <td>Yes</td>\n",
       "      <td>Yes</td>\n",
       "      <td>Yes</td>\n",
       "      <td>Month-to-month</td>\n",
       "      <td>Yes</td>\n",
       "      <td>Electronic check</td>\n",
       "      <td>104.80</td>\n",
       "      <td>3046.05</td>\n",
       "    </tr>\n",
       "    <tr>\n",
       "      <th>4</th>\n",
       "      <td>1</td>\n",
       "      <td>Male</td>\n",
       "      <td>No</td>\n",
       "      <td>No</td>\n",
       "      <td>Yes</td>\n",
       "      <td>49</td>\n",
       "      <td>Yes</td>\n",
       "      <td>Yes</td>\n",
       "      <td>Fiber optic</td>\n",
       "      <td>No</td>\n",
       "      <td>Yes</td>\n",
       "      <td>Yes</td>\n",
       "      <td>No</td>\n",
       "      <td>Yes</td>\n",
       "      <td>Yes</td>\n",
       "      <td>Month-to-month</td>\n",
       "      <td>Yes</td>\n",
       "      <td>Bank transfer (automatic)</td>\n",
       "      <td>103.70</td>\n",
       "      <td>5036.30</td>\n",
       "    </tr>\n",
       "  </tbody>\n",
       "</table>\n",
       "</div>"
      ],
      "text/plain": [
       "   Churn Value  Gender Senior Citizen Partner Dependents  Tenure Months  \\\n",
       "0            1    Male             No      No         No              2   \n",
       "1            1  Female             No      No        Yes              2   \n",
       "2            1  Female             No      No        Yes              8   \n",
       "3            1  Female             No     Yes        Yes             28   \n",
       "4            1    Male             No      No        Yes             49   \n",
       "\n",
       "  Phone Service Multiple Lines Internet Service Online Security Online Backup  \\\n",
       "0           Yes             No              DSL             Yes           Yes   \n",
       "1           Yes             No      Fiber optic              No            No   \n",
       "2           Yes            Yes      Fiber optic              No            No   \n",
       "3           Yes            Yes      Fiber optic              No            No   \n",
       "4           Yes            Yes      Fiber optic              No           Yes   \n",
       "\n",
       "  Device Protection Tech Support Streaming TV Streaming Movies  \\\n",
       "0                No           No           No               No   \n",
       "1                No           No           No               No   \n",
       "2               Yes           No          Yes              Yes   \n",
       "3               Yes          Yes          Yes              Yes   \n",
       "4               Yes           No          Yes              Yes   \n",
       "\n",
       "         Contract Paperless Billing             Payment Method  \\\n",
       "0  Month-to-month               Yes               Mailed check   \n",
       "1  Month-to-month               Yes           Electronic check   \n",
       "2  Month-to-month               Yes           Electronic check   \n",
       "3  Month-to-month               Yes           Electronic check   \n",
       "4  Month-to-month               Yes  Bank transfer (automatic)   \n",
       "\n",
       "   Monthly Charges  Total Charges  \n",
       "0            53.85         108.15  \n",
       "1            70.70         151.65  \n",
       "2            99.65         820.50  \n",
       "3           104.80        3046.05  \n",
       "4           103.70        5036.30  "
      ]
     },
     "execution_count": 7,
     "metadata": {},
     "output_type": "execute_result"
    }
   ],
   "source": [
    "df_logis_red = df[['Churn Value','Gender','Senior Citizen','Partner','Dependents','Tenure Months','Phone Service','Multiple Lines','Internet Service','Online Security','Online Backup','Device Protection','Tech Support','Streaming TV','Streaming Movies','Contract','Paperless Billing','Payment Method','Monthly Charges','Total Charges']]\n",
    "df_logis_red.head()"
   ]
  },
  {
   "cell_type": "code",
   "execution_count": 9,
   "id": "9bc39906",
   "metadata": {},
   "outputs": [
    {
     "data": {
      "text/html": [
       "<div>\n",
       "<style scoped>\n",
       "    .dataframe tbody tr th:only-of-type {\n",
       "        vertical-align: middle;\n",
       "    }\n",
       "\n",
       "    .dataframe tbody tr th {\n",
       "        vertical-align: top;\n",
       "    }\n",
       "\n",
       "    .dataframe thead th {\n",
       "        text-align: right;\n",
       "    }\n",
       "</style>\n",
       "<table border=\"1\" class=\"dataframe\">\n",
       "  <thead>\n",
       "    <tr style=\"text-align: right;\">\n",
       "      <th></th>\n",
       "      <th>Churn Value</th>\n",
       "      <th>Tenure Months</th>\n",
       "      <th>Monthly Charges</th>\n",
       "      <th>Total Charges</th>\n",
       "      <th>Gender_Female</th>\n",
       "      <th>Gender_Male</th>\n",
       "      <th>Senior Citizen_No</th>\n",
       "      <th>Senior Citizen_Yes</th>\n",
       "      <th>Partner_No</th>\n",
       "      <th>Partner_Yes</th>\n",
       "      <th>...</th>\n",
       "      <th>Streaming Movies_Yes</th>\n",
       "      <th>Contract_Month-to-month</th>\n",
       "      <th>Contract_One year</th>\n",
       "      <th>Contract_Two year</th>\n",
       "      <th>Paperless Billing_No</th>\n",
       "      <th>Paperless Billing_Yes</th>\n",
       "      <th>Payment Method_Bank transfer (automatic)</th>\n",
       "      <th>Payment Method_Credit card (automatic)</th>\n",
       "      <th>Payment Method_Electronic check</th>\n",
       "      <th>Payment Method_Mailed check</th>\n",
       "    </tr>\n",
       "  </thead>\n",
       "  <tbody>\n",
       "    <tr>\n",
       "      <th>0</th>\n",
       "      <td>1</td>\n",
       "      <td>2</td>\n",
       "      <td>53.85</td>\n",
       "      <td>108.15</td>\n",
       "      <td>0</td>\n",
       "      <td>1</td>\n",
       "      <td>1</td>\n",
       "      <td>0</td>\n",
       "      <td>1</td>\n",
       "      <td>0</td>\n",
       "      <td>...</td>\n",
       "      <td>0</td>\n",
       "      <td>1</td>\n",
       "      <td>0</td>\n",
       "      <td>0</td>\n",
       "      <td>0</td>\n",
       "      <td>1</td>\n",
       "      <td>0</td>\n",
       "      <td>0</td>\n",
       "      <td>0</td>\n",
       "      <td>1</td>\n",
       "    </tr>\n",
       "    <tr>\n",
       "      <th>1</th>\n",
       "      <td>1</td>\n",
       "      <td>2</td>\n",
       "      <td>70.70</td>\n",
       "      <td>151.65</td>\n",
       "      <td>1</td>\n",
       "      <td>0</td>\n",
       "      <td>1</td>\n",
       "      <td>0</td>\n",
       "      <td>1</td>\n",
       "      <td>0</td>\n",
       "      <td>...</td>\n",
       "      <td>0</td>\n",
       "      <td>1</td>\n",
       "      <td>0</td>\n",
       "      <td>0</td>\n",
       "      <td>0</td>\n",
       "      <td>1</td>\n",
       "      <td>0</td>\n",
       "      <td>0</td>\n",
       "      <td>1</td>\n",
       "      <td>0</td>\n",
       "    </tr>\n",
       "    <tr>\n",
       "      <th>2</th>\n",
       "      <td>1</td>\n",
       "      <td>8</td>\n",
       "      <td>99.65</td>\n",
       "      <td>820.50</td>\n",
       "      <td>1</td>\n",
       "      <td>0</td>\n",
       "      <td>1</td>\n",
       "      <td>0</td>\n",
       "      <td>1</td>\n",
       "      <td>0</td>\n",
       "      <td>...</td>\n",
       "      <td>1</td>\n",
       "      <td>1</td>\n",
       "      <td>0</td>\n",
       "      <td>0</td>\n",
       "      <td>0</td>\n",
       "      <td>1</td>\n",
       "      <td>0</td>\n",
       "      <td>0</td>\n",
       "      <td>1</td>\n",
       "      <td>0</td>\n",
       "    </tr>\n",
       "    <tr>\n",
       "      <th>3</th>\n",
       "      <td>1</td>\n",
       "      <td>28</td>\n",
       "      <td>104.80</td>\n",
       "      <td>3046.05</td>\n",
       "      <td>1</td>\n",
       "      <td>0</td>\n",
       "      <td>1</td>\n",
       "      <td>0</td>\n",
       "      <td>0</td>\n",
       "      <td>1</td>\n",
       "      <td>...</td>\n",
       "      <td>1</td>\n",
       "      <td>1</td>\n",
       "      <td>0</td>\n",
       "      <td>0</td>\n",
       "      <td>0</td>\n",
       "      <td>1</td>\n",
       "      <td>0</td>\n",
       "      <td>0</td>\n",
       "      <td>1</td>\n",
       "      <td>0</td>\n",
       "    </tr>\n",
       "    <tr>\n",
       "      <th>4</th>\n",
       "      <td>1</td>\n",
       "      <td>49</td>\n",
       "      <td>103.70</td>\n",
       "      <td>5036.30</td>\n",
       "      <td>0</td>\n",
       "      <td>1</td>\n",
       "      <td>1</td>\n",
       "      <td>0</td>\n",
       "      <td>1</td>\n",
       "      <td>0</td>\n",
       "      <td>...</td>\n",
       "      <td>1</td>\n",
       "      <td>1</td>\n",
       "      <td>0</td>\n",
       "      <td>0</td>\n",
       "      <td>0</td>\n",
       "      <td>1</td>\n",
       "      <td>1</td>\n",
       "      <td>0</td>\n",
       "      <td>0</td>\n",
       "      <td>0</td>\n",
       "    </tr>\n",
       "  </tbody>\n",
       "</table>\n",
       "<p>5 rows × 47 columns</p>\n",
       "</div>"
      ],
      "text/plain": [
       "   Churn Value  Tenure Months  Monthly Charges  Total Charges  Gender_Female  \\\n",
       "0            1              2            53.85         108.15              0   \n",
       "1            1              2            70.70         151.65              1   \n",
       "2            1              8            99.65         820.50              1   \n",
       "3            1             28           104.80        3046.05              1   \n",
       "4            1             49           103.70        5036.30              0   \n",
       "\n",
       "   Gender_Male  Senior Citizen_No  Senior Citizen_Yes  Partner_No  \\\n",
       "0            1                  1                   0           1   \n",
       "1            0                  1                   0           1   \n",
       "2            0                  1                   0           1   \n",
       "3            0                  1                   0           0   \n",
       "4            1                  1                   0           1   \n",
       "\n",
       "   Partner_Yes  ...  Streaming Movies_Yes  Contract_Month-to-month  \\\n",
       "0            0  ...                     0                        1   \n",
       "1            0  ...                     0                        1   \n",
       "2            0  ...                     1                        1   \n",
       "3            1  ...                     1                        1   \n",
       "4            0  ...                     1                        1   \n",
       "\n",
       "   Contract_One year  Contract_Two year  Paperless Billing_No  \\\n",
       "0                  0                  0                     0   \n",
       "1                  0                  0                     0   \n",
       "2                  0                  0                     0   \n",
       "3                  0                  0                     0   \n",
       "4                  0                  0                     0   \n",
       "\n",
       "   Paperless Billing_Yes  Payment Method_Bank transfer (automatic)  \\\n",
       "0                      1                                         0   \n",
       "1                      1                                         0   \n",
       "2                      1                                         0   \n",
       "3                      1                                         0   \n",
       "4                      1                                         1   \n",
       "\n",
       "   Payment Method_Credit card (automatic)  Payment Method_Electronic check  \\\n",
       "0                                       0                                0   \n",
       "1                                       0                                1   \n",
       "2                                       0                                1   \n",
       "3                                       0                                1   \n",
       "4                                       0                                0   \n",
       "\n",
       "   Payment Method_Mailed check  \n",
       "0                            1  \n",
       "1                            0  \n",
       "2                            0  \n",
       "3                            0  \n",
       "4                            0  \n",
       "\n",
       "[5 rows x 47 columns]"
      ]
     },
     "execution_count": 9,
     "metadata": {},
     "output_type": "execute_result"
    }
   ],
   "source": [
    "dummy_logis_red = pd.get_dummies(df_logis_red)\n",
    "dummy_logis_red.head()"
   ]
  },
  {
   "cell_type": "code",
   "execution_count": 10,
   "id": "82148215",
   "metadata": {},
   "outputs": [],
   "source": [
    "y = dummy_logis_red['Churn Value']\n",
    "X = dummy_logis_red.drop('Churn Value', axis=1)\n",
    "\n",
    "# resampling\n",
    "sm = SMOTE(random_state=100)\n",
    "X_resampled, y_resampled = sm.fit_resample(X,y)\n",
    "\n",
    "#normalization\n",
    "mm = preprocessing.StandardScaler()\n",
    "X = pd.DataFrame(mm.fit_transform(X))\n",
    "\n",
    "\n",
    "# Train-Test-Split\n",
    "X_train, X_test, y_train, y_test = train_test_split(X, y, test_size = .3, random_state = 100)"
   ]
  },
  {
   "cell_type": "code",
   "execution_count": 28,
   "id": "1b3cc925",
   "metadata": {},
   "outputs": [
    {
     "name": "stdout",
     "output_type": "stream",
     "text": [
      "[ True  True  True  True  True  True  True  True  True  True]\n",
      "[1 1 1 1 1 1 1 1 1 1]\n",
      "Index(['Tenure Months', 'Total Charges', 'Dependents_Yes',\n",
      "       'Internet Service_DSL', 'Online Security_Yes', 'Tech Support_No',\n",
      "       'Contract_Month-to-month', 'Contract_Two year', 'Paperless Billing_No',\n",
      "       'Payment Method_Electronic check'],\n",
      "      dtype='object')\n"
     ]
    }
   ],
   "source": [
    "#Feature selection \n",
    "#Recursive feature elimination\n",
    "from sklearn.feature_selection import RFE\n",
    "\n",
    "logreg = LogisticRegression(penalty=\"l2\",random_state=100,solver = 'liblinear',max_iter=100)\n",
    "# logreg = LogisticRegression()\n",
    "#Select best feature \n",
    "rfe = RFE(logreg, n_features_to_select=15)  #ลองเลือกตัวแปรอิสระมา 15 ตัว จาก 48 ตัว Categorical+Continuous Variables\n",
    "rfe = rfe.fit(X_train, y_train.ravel())\n",
    "\n",
    "\n",
    "#Summarize the selection of the attributes\n",
    "print(rfe.support_)\n",
    "print(rfe.ranking_)\n",
    "#ตัวแปรอิสระ 15 ตัวที่ถูกเลือก\n",
    "print(X_train.columns[rfe.support_])\n"
   ]
  },
  {
   "cell_type": "code",
   "execution_count": 29,
   "id": "f4e44e79",
   "metadata": {},
   "outputs": [
    {
     "data": {
      "text/plain": [
       "Index(['Tenure Months', 'Total Charges', 'Dependents_No', 'Dependents_Yes',\n",
       "       'Internet Service_DSL', 'Online Security_No internet service',\n",
       "       'Online Security_Yes', 'Online Backup_No internet service',\n",
       "       'Device Protection_No internet service', 'Tech Support_No',\n",
       "       'Streaming Movies_No', 'Contract_Month-to-month', 'Contract_Two year',\n",
       "       'Paperless Billing_No', 'Payment Method_Electronic check'],\n",
       "      dtype='object')"
      ]
     },
     "execution_count": 29,
     "metadata": {},
     "output_type": "execute_result"
    }
   ],
   "source": [
    "df_select_red = dummy_logis_red.iloc[:,1:]\n",
    "df_select_red = df_select_red.iloc[:,[0, 2, 9, 10, 16, 20, 21, 23, 26, 28, 34, 37, 39, 40, 44]]\n",
    "cols = df_select_red.columns\n",
    "cols"
   ]
  },
  {
   "cell_type": "code",
   "execution_count": 30,
   "id": "6799aa90",
   "metadata": {},
   "outputs": [
    {
     "name": "stdout",
     "output_type": "stream",
     "text": [
      "Optimization terminated successfully.\n",
      "         Current function value: 0.404215\n",
      "         Iterations 8\n",
      "                                            Results: Logit\n",
      "=======================================================================================================\n",
      "Model:                           Logit                         Pseudo R-squared:              0.302    \n",
      "Dependent Variable:              Churn Value                   AIC:                           5710.8743\n",
      "Date:                            2022-04-20 16:47              BIC:                           5800.0312\n",
      "No. Observations:                7032                          Log-Likelihood:                -2842.4  \n",
      "Df Model:                        12                            LL-Null:                       -4071.7  \n",
      "Df Residuals:                    7019                          LLR p-value:                   0.0000   \n",
      "Converged:                       1.0000                        Scale:                         1.0000   \n",
      "No. Iterations:                  8.0000                                                                \n",
      "-------------------------------------------------------------------------------------------------------\n",
      "                                       Coef.    Std.Err.      z     P>|z|      [0.025         0.975]   \n",
      "-------------------------------------------------------------------------------------------------------\n",
      "Tenure Months                         -0.0541       0.0060  -9.0178 0.0000        -0.0658       -0.0423\n",
      "Total Charges                          0.0003       0.0001   4.5314 0.0000         0.0002        0.0004\n",
      "Dependents_No                         -0.0627          nan      nan    nan            nan           nan\n",
      "Dependents_Yes                        -1.4904       0.1263 -11.7962 0.0000        -1.7381       -1.2428\n",
      "Internet Service_DSL                  -0.6067       0.0512 -11.8580 0.0000        -0.7069       -0.5064\n",
      "Online Security_No internet service   -0.4713 8988948.2069  -0.0000 1.0000 -17618015.2157 17618014.2730\n",
      "Online Security_Yes                   -0.3998       0.0848  -4.7177 0.0000        -0.5659       -0.2337\n",
      "Online Backup_No internet service     -0.4713          nan      nan    nan            nan           nan\n",
      "Device Protection_No internet service -0.4713          nan      nan    nan            nan           nan\n",
      "Tech Support_No                        0.3996       0.0889   4.4955 0.0000         0.2254        0.5738\n",
      "Streaming Movies_No                   -0.2824      -0.0000      inf 0.0000        -0.2824       -0.2824\n",
      "Contract_Month-to-month                0.7132       0.0636  11.2107 0.0000         0.5885        0.8378\n",
      "Contract_Two year                     -0.6394       0.1779  -3.5930 0.0003        -0.9882       -0.2906\n",
      "Paperless Billing_No                  -0.3608       0.0764  -4.7230 0.0000        -0.5105       -0.2110\n",
      "Payment Method_Electronic check        0.3812       0.0000      inf 0.0000         0.3812        0.3812\n",
      "=======================================================================================================\n",
      "\n"
     ]
    }
   ],
   "source": [
    "# เอาตัวแปรอิสระ 15 ตัวที่ถูกเลือกมาพิจารณาต่อด้วยการดูค่า p-value\n",
    "y = dummy_logis_red['Churn Value']\n",
    "X = dummy_logis_red[cols]\n",
    "\n",
    "# Implementing the model\n",
    "import statsmodels.api as sm\n",
    "logit_model=sm.Logit(y,X)\n",
    "result=logit_model.fit()\n",
    "print(result.summary2())"
   ]
  },
  {
   "cell_type": "code",
   "execution_count": 31,
   "id": "2d20036a",
   "metadata": {},
   "outputs": [
    {
     "name": "stdout",
     "output_type": "stream",
     "text": [
      "Optimization terminated successfully.\n",
      "         Current function value: 0.412308\n",
      "         Iterations 8\n",
      "                                 Results: Logit\n",
      "================================================================================\n",
      "Model:                    Logit                 Pseudo R-squared:      0.288    \n",
      "Dependent Variable:       Churn Value           AIC:                   5820.7012\n",
      "Date:                     2022-04-20 16:47      BIC:                   5896.1417\n",
      "No. Observations:         7032                  Log-Likelihood:        -2899.4  \n",
      "Df Model:                 10                    LL-Null:               -4071.7  \n",
      "Df Residuals:             7021                  LLR p-value:           0.0000   \n",
      "Converged:                1.0000                Scale:                 1.0000   \n",
      "No. Iterations:           8.0000                                                \n",
      "--------------------------------------------------------------------------------\n",
      "                                 Coef.  Std.Err.    z     P>|z|   [0.025  0.975]\n",
      "--------------------------------------------------------------------------------\n",
      "Tenure Months                   -0.0815   0.0054 -15.0617 0.0000 -0.0921 -0.0709\n",
      "Total Charges                    0.0006   0.0001  10.0999 0.0000  0.0005  0.0007\n",
      "Dependents_Yes                  -1.5247   0.1119 -13.6250 0.0000 -1.7441 -1.3054\n",
      "Internet Service_DSL            -0.3516   0.0807  -4.3547 0.0000 -0.5098 -0.1933\n",
      "Online Security_Yes             -0.3966   0.0862  -4.5988 0.0000 -0.5656 -0.2276\n",
      "Tech Support_No                  0.6583   0.0759   8.6730 0.0000  0.5096  0.8071\n",
      "Streaming Movies_No             -0.0734   0.0736  -0.9971 0.3187 -0.2177  0.0709\n",
      "Contract_Month-to-month          0.2579   0.0700   3.6853 0.0002  0.1207  0.3950\n",
      "Contract_Two year               -0.9331   0.1704  -5.4746 0.0000 -1.2672 -0.5991\n",
      "Paperless Billing_No            -0.6421   0.0687  -9.3441 0.0000 -0.7767 -0.5074\n",
      "Payment Method_Electronic check  0.4283   0.0675   6.3476 0.0000  0.2961  0.5606\n",
      "================================================================================\n",
      "\n"
     ]
    }
   ],
   "source": [
    "#ตัดตัวแปรอิสระออก 4 ตัว ได้แก่ \n",
    "    #Dependents_No\n",
    "    #Online Security_No internet service\n",
    "    #Online Backup_No internet service\n",
    "    #Device Protection_No internet service\n",
    "#ที่ไม่มีผลต่อ Churn Value เนื่องจากค่า p-value > 0.05 \n",
    "#จากนั้นเอาตัวแปรอิสระ 10 ตัวที่เหลือ มาพิจารณาต่อ\n",
    "df_logis_red2 = dummy_logis_red[['Churn Value','Tenure Months','Total Charges','Dependents_Yes','Internet Service_DSL',\n",
    "        'Online Security_Yes','Tech Support_No','Streaming Movies_No','Contract_Month-to-month',\n",
    "        'Contract_Two year','Paperless Billing_No','Payment Method_Electronic check']]\n",
    "    \n",
    "y = df_logis_red2['Churn Value']\n",
    "X = df_logis_red2.drop('Churn Value', axis=1)\n",
    "\n",
    "import statsmodels.api as sm\n",
    "logit_model2=sm.Logit(y,X)\n",
    "result2=logit_model2.fit()\n",
    "print(result2.summary2())"
   ]
  },
  {
   "cell_type": "code",
   "execution_count": 32,
   "id": "195676cd",
   "metadata": {},
   "outputs": [
    {
     "name": "stdout",
     "output_type": "stream",
     "text": [
      "Optimization terminated successfully.\n",
      "         Current function value: 0.412379\n",
      "         Iterations 8\n",
      "                                 Results: Logit\n",
      "================================================================================\n",
      "Model:                    Logit                 Pseudo R-squared:      0.288    \n",
      "Dependent Variable:       Churn Value           AIC:                   5819.6967\n",
      "Date:                     2022-04-20 16:47      BIC:                   5888.2790\n",
      "No. Observations:         7032                  Log-Likelihood:        -2899.8  \n",
      "Df Model:                 9                     LL-Null:               -4071.7  \n",
      "Df Residuals:             7022                  LLR p-value:           0.0000   \n",
      "Converged:                1.0000                Scale:                 1.0000   \n",
      "No. Iterations:           8.0000                                                \n",
      "--------------------------------------------------------------------------------\n",
      "                                 Coef.  Std.Err.    z     P>|z|   [0.025  0.975]\n",
      "--------------------------------------------------------------------------------\n",
      "Tenure Months                   -0.0820   0.0054 -15.1884 0.0000 -0.0926 -0.0715\n",
      "Total Charges                    0.0006   0.0001  10.2932 0.0000  0.0005  0.0007\n",
      "Dependents_Yes                  -1.5250   0.1119 -13.6261 0.0000 -1.7444 -1.3056\n",
      "Internet Service_DSL            -0.3684   0.0790  -4.6648 0.0000 -0.5232 -0.2136\n",
      "Online Security_Yes             -0.4050   0.0858  -4.7231 0.0000 -0.5731 -0.2370\n",
      "Tech Support_No                  0.6363   0.0725   8.7738 0.0000  0.4942  0.7785\n",
      "Contract_Month-to-month          0.2405   0.0678   3.5494 0.0004  0.1077  0.3733\n",
      "Contract_Two year               -0.9375   0.1704  -5.5019 0.0000 -1.2715 -0.6036\n",
      "Paperless Billing_No            -0.6427   0.0687  -9.3514 0.0000 -0.7773 -0.5080\n",
      "Payment Method_Electronic check  0.4282   0.0675   6.3478 0.0000  0.2960  0.5604\n",
      "================================================================================\n",
      "\n"
     ]
    }
   ],
   "source": [
    "#ตัดตัวแปรอิสระ'Streaming Movies_No'ออก 1 ตัว ที่ไม่มีผลต่อ Churn Value เนื่องจากค่า p-value > 0.05 \n",
    "#จากนั้นเอาตัวแปรอิสระ 10 ตัวที่เหลือ มาพิจารณาต่อ\n",
    "df_logis_red3 = dummy_logis_red[['Churn Value','Tenure Months','Total Charges',\n",
    "                                 'Dependents_Yes','Internet Service_DSL','Online Security_Yes',\n",
    "                                 'Tech Support_No','Contract_Month-to-month','Contract_Two year',\n",
    "                                 'Paperless Billing_No','Payment Method_Electronic check']]\n",
    "\n",
    "y = df_logis_red3['Churn Value']\n",
    "X = df_logis_red3.drop('Churn Value', axis=1)\n",
    "\n",
    "import statsmodels.api as sm\n",
    "logit_model3=sm.Logit(y,X)\n",
    "result3=logit_model3.fit()\n",
    "print(result3.summary2())"
   ]
  },
  {
   "cell_type": "code",
   "execution_count": null,
   "id": "305c34e4",
   "metadata": {},
   "outputs": [],
   "source": []
  },
  {
   "cell_type": "code",
   "execution_count": null,
   "id": "3be54be9",
   "metadata": {},
   "outputs": [],
   "source": []
  },
  {
   "cell_type": "markdown",
   "id": "a6689bf5",
   "metadata": {},
   "source": [
    "## 2. modeling"
   ]
  },
  {
   "cell_type": "code",
   "execution_count": 19,
   "id": "4fec97c8",
   "metadata": {},
   "outputs": [
    {
     "data": {
      "text/plain": [
       "LogisticRegression(class_weight={0: 0.2, 1: 0.8}, solver='liblinear')"
      ]
     },
     "execution_count": 19,
     "metadata": {},
     "output_type": "execute_result"
    }
   ],
   "source": [
    "df_logis_red_ = dummy_logis_red[['Churn Value','Tenure Months','Total Charges',\n",
    "                                 'Dependents_Yes','Internet Service_DSL','Online Security_Yes',\n",
    "                                 'Tech Support_No','Contract_Month-to-month','Contract_Two year',\n",
    "                                 'Paperless Billing_No','Payment Method_Electronic check']]\n",
    "\n",
    "y = df_logis_red_['Churn Value']\n",
    "X = df_logis_red_.drop('Churn Value', axis=1)\n",
    "\n",
    "X_train, X_test, y_train, y_test = train_test_split(X, y, test_size=0.3, random_state=0)\n",
    "logreg = LogisticRegression(class_weight={0:0.2,1:0.8},solver = 'liblinear',max_iter=100)\n",
    "logreg.fit(X_train, y_train)"
   ]
  },
  {
   "cell_type": "code",
   "execution_count": null,
   "id": "4ea946a5",
   "metadata": {},
   "outputs": [],
   "source": []
  },
  {
   "cell_type": "markdown",
   "id": "353fbaad",
   "metadata": {},
   "source": [
    "## 3. Evaluate Model"
   ]
  },
  {
   "cell_type": "code",
   "execution_count": 20,
   "id": "cdc2a715",
   "metadata": {},
   "outputs": [
    {
     "name": "stdout",
     "output_type": "stream",
     "text": [
      "Accuracy of logistic regression classifier on test set: 0.70\n"
     ]
    }
   ],
   "source": [
    "# Predicting the test results and calculating the accuracy\n",
    "y_pred = logreg.predict(X_test)\n",
    "print('Accuracy of logistic regression classifier on test set: {:.2f}'.format(logreg.score(X_test, y_test)))"
   ]
  },
  {
   "cell_type": "code",
   "execution_count": 21,
   "id": "ac8d25f7",
   "metadata": {},
   "outputs": [
    {
     "data": {
      "text/plain": [
       "array([[998, 559],\n",
       "       [ 80, 473]], dtype=int64)"
      ]
     },
     "execution_count": 21,
     "metadata": {},
     "output_type": "execute_result"
    }
   ],
   "source": [
    "# Confusion Matrix\n",
    "cnf_matrix = confusion_matrix(y_test, y_pred)\n",
    "cnf_matrix\n"
   ]
  },
  {
   "cell_type": "code",
   "execution_count": 22,
   "id": "b7c01594",
   "metadata": {},
   "outputs": [
    {
     "name": "stdout",
     "output_type": "stream",
     "text": [
      "Accuracy of logistic regression classifier on test set: 0.70\n",
      "accuracy score is:  0.6971563981042654\n",
      "roc auc score is:  0.7481553876154008\n",
      "precision score is:  0.4583333333333333\n",
      "recall score is:  0.8553345388788427\n",
      "              precision    recall  f1-score   support\n",
      "\n",
      "           0       0.93      0.64      0.76      1557\n",
      "           1       0.46      0.86      0.60       553\n",
      "\n",
      "    accuracy                           0.70      2110\n",
      "   macro avg       0.69      0.75      0.68      2110\n",
      "weighted avg       0.80      0.70      0.72      2110\n",
      "\n"
     ]
    }
   ],
   "source": [
    "print('Accuracy of logistic regression classifier on test set: {:.2f}'.format(logreg.score(X_test,y_test)))\n",
    "print('accuracy score is: ', accuracy_score(y_test,y_pred))\n",
    "print('roc auc score is: ', roc_auc_score(y_test,y_pred))\n",
    "print('precision score is: ',precision_score(y_test,y_pred))\n",
    "print('recall score is: ', recall_score(y_test,y_pred))\n",
    "print(classification_report(y_test, y_pred))"
   ]
  },
  {
   "cell_type": "code",
   "execution_count": null,
   "id": "2a61d4d3",
   "metadata": {},
   "outputs": [],
   "source": []
  },
  {
   "cell_type": "code",
   "execution_count": null,
   "id": "86703a3d",
   "metadata": {},
   "outputs": [],
   "source": []
  },
  {
   "cell_type": "markdown",
   "id": "606e144d",
   "metadata": {},
   "source": [
    "## 4. Improve Model"
   ]
  },
  {
   "cell_type": "code",
   "execution_count": 179,
   "id": "23ddeb26",
   "metadata": {},
   "outputs": [
    {
     "name": "stdout",
     "output_type": "stream",
     "text": [
      "-> folds=2, accuracy=0.805 (0.801,0.809)\n",
      "-> folds=3, accuracy=0.805 (0.794,0.815)\n",
      "-> folds=4, accuracy=0.806 (0.788,0.823)\n",
      "-> folds=5, accuracy=0.806 (0.794,0.821)\n",
      "-> folds=6, accuracy=0.806 (0.788,0.823)\n",
      "-> folds=7, accuracy=0.804 (0.788,0.822)\n",
      "-> folds=8, accuracy=0.804 (0.787,0.828)\n",
      "-> folds=9, accuracy=0.806 (0.788,0.825)\n",
      "-> folds=10, accuracy=0.807 (0.790,0.834)\n",
      "-> folds=11, accuracy=0.806 (0.787,0.829)\n",
      "-> folds=12, accuracy=0.806 (0.778,0.831)\n",
      "-> folds=13, accuracy=0.806 (0.774,0.837)\n",
      "-> folds=14, accuracy=0.806 (0.775,0.833)\n",
      "-> folds=15, accuracy=0.805 (0.776,0.833)\n",
      "-> folds=16, accuracy=0.805 (0.761,0.841)\n",
      "-> folds=17, accuracy=0.805 (0.758,0.845)\n",
      "-> folds=18, accuracy=0.805 (0.765,0.844)\n",
      "-> folds=19, accuracy=0.807 (0.763,0.854)\n",
      "-> folds=20, accuracy=0.804 (0.770,0.838)\n",
      "-> folds=21, accuracy=0.806 (0.779,0.838)\n",
      "-> folds=22, accuracy=0.806 (0.778,0.846)\n",
      "-> folds=23, accuracy=0.804 (0.771,0.850)\n",
      "-> folds=24, accuracy=0.804 (0.771,0.853)\n",
      "-> folds=25, accuracy=0.805 (0.762,0.868)\n",
      "-> folds=26, accuracy=0.804 (0.767,0.860)\n",
      "-> folds=27, accuracy=0.804 (0.755,0.842)\n",
      "-> folds=28, accuracy=0.805 (0.750,0.853)\n",
      "-> folds=29, accuracy=0.804 (0.749,0.852)\n",
      "-> folds=30, accuracy=0.806 (0.756,0.855)\n"
     ]
    }
   ],
   "source": [
    "def evaluate_model(cv):\n",
    "  # get the model\n",
    "  model = LogisticRegression(solver = 'liblinear',max_iter=100)\n",
    "  # evaluate the model\n",
    "  scores = cross_val_score(model, X, y, scoring='accuracy', cv=cv, n_jobs=-1)\n",
    "  # return scores\n",
    "  return mean(scores), scores.min(), scores.max()\n",
    "\n",
    "folds = range(2,31)\n",
    "for k in folds:\n",
    "    # define the test condition\n",
    "    cv = KFold(n_splits=k, shuffle=True, random_state=10)\n",
    "    # record mean and min/max of each set of results\n",
    "    k_mean, k_min, k_max = evaluate_model(cv)\n",
    "    # report performance\n",
    "    print('-> folds=%d, accuracy=%.3f (%.3f,%.3f)' % (k, k_mean, k_min, k_max))"
   ]
  },
  {
   "cell_type": "code",
   "execution_count": 321,
   "id": "8fd185a2",
   "metadata": {},
   "outputs": [
    {
     "name": "stdout",
     "output_type": "stream",
     "text": [
      "Duration: 0:07:23.172488\n"
     ]
    }
   ],
   "source": [
    "# Model Improvement\n",
    "#Hyperparameter tuning\n",
    "\n",
    "start_time = datetime.now()\n",
    "\n",
    "# define model/create instance\n",
    "lr=LogisticRegression(solver = 'liblinear',max_iter=100)\n",
    "\n",
    "#tuning weight for minority class then weight for majority class will be 1-weight of minority class\n",
    "#Setting the range for class weights\n",
    "weights = np.linspace(0.0,0.99,500)\n",
    "\n",
    "#specifying all hyperparameters with possible values\n",
    "param= {'C': [0.1, 0.5, 1,10,15,20], \n",
    "        'penalty': ['l2'],\n",
    "        \"class_weight\":[{0:x ,1:1.0 -x} for x in weights]}\n",
    "\n",
    "# create 10 folds\n",
    "folds = StratifiedKFold(n_splits = 10, shuffle = True, random_state = 100)\n",
    "\n",
    "#Gridsearch for hyperparam tuning\n",
    "model= GridSearchCV(estimator= lr,\n",
    "                    param_grid=param, \n",
    "                    scoring=\"f1\",\n",
    "                    cv=folds,return_train_score=True)\n",
    "\n",
    "#train model to learn relationships between x and y\n",
    "model.fit(X_train,y_train)\n",
    "\n",
    "end_time = datetime.now()\n",
    "print('Duration: {}'.format(end_time - start_time))"
   ]
  },
  {
   "cell_type": "code",
   "execution_count": 322,
   "id": "a2e883cb",
   "metadata": {},
   "outputs": [
    {
     "name": "stdout",
     "output_type": "stream",
     "text": [
      "Best F1 score:  0.6541057204693853\n",
      "Best hyperparameters:  {'C': 0.5, 'class_weight': {0: 0.34124248496993986, 1: 0.6587575150300602}, 'penalty': 'l2'}\n"
     ]
    }
   ],
   "source": [
    "# print best hyperparameters\n",
    "print(\"Best F1 score: \", model.best_score_)\n",
    "print(\"Best hyperparameters: \", model.best_params_)"
   ]
  },
  {
   "cell_type": "code",
   "execution_count": 323,
   "id": "95160084",
   "metadata": {},
   "outputs": [
    {
     "data": {
      "text/plain": [
       "LogisticRegression(C=0.5, class_weight={0: 0.34, 1: 0.66})"
      ]
     },
     "execution_count": 323,
     "metadata": {},
     "output_type": "execute_result"
    }
   ],
   "source": [
    "#Building Model again with best params\n",
    "lr3=LogisticRegression(class_weight={0:0.34,1:0.66},C=0.5,penalty=\"l2\")\n",
    "lr3.fit(X_train,y_train)"
   ]
  },
  {
   "cell_type": "code",
   "execution_count": 324,
   "id": "e021c3d3",
   "metadata": {},
   "outputs": [
    {
     "name": "stderr",
     "output_type": "stream",
     "text": [
      "C:\\Users\\kornc\\Documents\\anaconda3\\lib\\site-packages\\sklearn\\linear_model\\_logistic.py:814: ConvergenceWarning:\n",
      "\n",
      "lbfgs failed to converge (status=1):\n",
      "STOP: TOTAL NO. of ITERATIONS REACHED LIMIT.\n",
      "\n",
      "Increase the number of iterations (max_iter) or scale the data as shown in:\n",
      "    https://scikit-learn.org/stable/modules/preprocessing.html\n",
      "Please also refer to the documentation for alternative solver options:\n",
      "    https://scikit-learn.org/stable/modules/linear_model.html#logistic-regression\n",
      "\n",
      "C:\\Users\\kornc\\Documents\\anaconda3\\lib\\site-packages\\sklearn\\linear_model\\_logistic.py:814: ConvergenceWarning:\n",
      "\n",
      "lbfgs failed to converge (status=1):\n",
      "STOP: TOTAL NO. of ITERATIONS REACHED LIMIT.\n",
      "\n",
      "Increase the number of iterations (max_iter) or scale the data as shown in:\n",
      "    https://scikit-learn.org/stable/modules/preprocessing.html\n",
      "Please also refer to the documentation for alternative solver options:\n",
      "    https://scikit-learn.org/stable/modules/linear_model.html#logistic-regression\n",
      "\n",
      "C:\\Users\\kornc\\Documents\\anaconda3\\lib\\site-packages\\sklearn\\linear_model\\_logistic.py:814: ConvergenceWarning:\n",
      "\n",
      "lbfgs failed to converge (status=1):\n",
      "STOP: TOTAL NO. of ITERATIONS REACHED LIMIT.\n",
      "\n",
      "Increase the number of iterations (max_iter) or scale the data as shown in:\n",
      "    https://scikit-learn.org/stable/modules/preprocessing.html\n",
      "Please also refer to the documentation for alternative solver options:\n",
      "    https://scikit-learn.org/stable/modules/linear_model.html#logistic-regression\n",
      "\n",
      "C:\\Users\\kornc\\Documents\\anaconda3\\lib\\site-packages\\sklearn\\linear_model\\_logistic.py:814: ConvergenceWarning:\n",
      "\n",
      "lbfgs failed to converge (status=1):\n",
      "STOP: TOTAL NO. of ITERATIONS REACHED LIMIT.\n",
      "\n",
      "Increase the number of iterations (max_iter) or scale the data as shown in:\n",
      "    https://scikit-learn.org/stable/modules/preprocessing.html\n",
      "Please also refer to the documentation for alternative solver options:\n",
      "    https://scikit-learn.org/stable/modules/linear_model.html#logistic-regression\n",
      "\n",
      "C:\\Users\\kornc\\Documents\\anaconda3\\lib\\site-packages\\sklearn\\linear_model\\_logistic.py:814: ConvergenceWarning:\n",
      "\n",
      "lbfgs failed to converge (status=1):\n",
      "STOP: TOTAL NO. of ITERATIONS REACHED LIMIT.\n",
      "\n",
      "Increase the number of iterations (max_iter) or scale the data as shown in:\n",
      "    https://scikit-learn.org/stable/modules/preprocessing.html\n",
      "Please also refer to the documentation for alternative solver options:\n",
      "    https://scikit-learn.org/stable/modules/linear_model.html#logistic-regression\n",
      "\n"
     ]
    },
    {
     "data": {
      "text/plain": [
       "<matplotlib.legend.Legend at 0x2f2963ac7f0>"
      ]
     },
     "execution_count": 324,
     "metadata": {},
     "output_type": "execute_result"
    },
    {
     "data": {
      "image/png": "[encoded data removed]",
      "text/plain": [
       "<Figure size 432x288 with 1 Axes>"
      ]
     },
     "metadata": {
      "needs_background": "light"
     },
     "output_type": "display_data"
    }
   ],
   "source": [
    "train_sizes, train_scores, test_scores = learning_curve(lr3,X_train, y_train, cv = 3, train_sizes = [1, 30,100,300,520])\n",
    "train_scores_mean = np.mean(train_scores, axis=1)\n",
    "train_scores_std = np.std(train_scores, axis=1)\n",
    "test_scores_mean = np.mean(test_scores, axis=1)\n",
    "test_scores_std = np.std(test_scores, axis=1)\n",
    "\n",
    "plt.grid()\n",
    "\n",
    "plt.fill_between(train_sizes, train_scores_mean - train_scores_std,\n",
    "                  train_scores_mean + train_scores_std, alpha=0.1,\n",
    "                  color=\"r\")\n",
    "plt.fill_between(train_sizes, test_scores_mean - test_scores_std,\n",
    "                  test_scores_mean + test_scores_std, alpha=0.1, color=\"g\")\n",
    "plt.plot(train_sizes, train_scores_mean, 'o-', color=\"r\",\n",
    "          label=\"Training score\")\n",
    "plt.plot(train_sizes, test_scores_mean, 'o-', color=\"g\",\n",
    "          label=\"Cross-validation score\")\n",
    "\n",
    "plt.legend(loc=\"best\")"
   ]
  },
  {
   "cell_type": "code",
   "execution_count": 325,
   "id": "1f721595",
   "metadata": {},
   "outputs": [
    {
     "name": "stdout",
     "output_type": "stream",
     "text": [
      "confusion Matrix is :nn [[1214  343]\n",
      " [ 150  403]]\n",
      "n\n",
      "accuracy score is:  0.7663507109004739\n",
      "ROC-AUC score  test dataset:  t 0.829988467180243\n",
      "precision score  test dataset:  t 0.5402144772117963\n",
      "Recall score  test dataset:  t 0.72875226039783\n",
      "f1 score  test dataset :  t 0.6204772902232487\n"
     ]
    }
   ],
   "source": [
    "# predict probabilities on Test and take probability for class 1([:1])\n",
    "y_pred_prob_test = lr3.predict_proba(X_test)[:, 1]\n",
    "#predict labels on test dataset\n",
    "y_pred_test = lr3.predict(X_test)\n",
    "# create onfusion matrix\n",
    "cm = confusion_matrix(y_test, y_pred_test)\n",
    "print(\"confusion Matrix is :nn\",cm)\n",
    "print(\"n\")\n",
    "# Accuracy score\n",
    "print('accuracy score is: ', accuracy_score(y_test,y_pred_test))\n",
    "# ROC- AUC score\n",
    "print(\"ROC-AUC score  test dataset:  t\", roc_auc_score(y_test,y_pred_prob_test))\n",
    "#Precision score\n",
    "print(\"precision score  test dataset:  t\", precision_score(y_test,y_pred_test))\n",
    "#Recall Score\n",
    "print(\"Recall score  test dataset:  t\", recall_score(y_test,y_pred_test))\n",
    "#f1 score\n",
    "print(\"f1 score  test dataset :  t\", f1_score(y_test,y_pred_test))"
   ]
  },
  {
   "cell_type": "code",
   "execution_count": 326,
   "id": "6c7ff877",
   "metadata": {},
   "outputs": [
    {
     "name": "stdout",
     "output_type": "stream",
     "text": [
      "              precision    recall  f1-score   support\n",
      "\n",
      "           0       0.89      0.78      0.83      1557\n",
      "           1       0.54      0.73      0.62       553\n",
      "\n",
      "    accuracy                           0.77      2110\n",
      "   macro avg       0.72      0.75      0.73      2110\n",
      "weighted avg       0.80      0.77      0.78      2110\n",
      "\n"
     ]
    }
   ],
   "source": [
    "from sklearn.metrics import classification_report\n",
    "print(classification_report(y_test,y_pred_test))"
   ]
  },
  {
   "cell_type": "code",
   "execution_count": null,
   "id": "7bebf92f",
   "metadata": {},
   "outputs": [],
   "source": []
  },
  {
   "cell_type": "code",
   "execution_count": null,
   "id": "f77e8eed",
   "metadata": {},
   "outputs": [],
   "source": []
  },
  {
   "cell_type": "code",
   "execution_count": null,
   "id": "600cbb26",
   "metadata": {},
   "outputs": [],
   "source": []
  },
  {
   "cell_type": "code",
   "execution_count": null,
   "id": "aa392bc3",
   "metadata": {},
   "outputs": [],
   "source": []
  },
  {
   "cell_type": "code",
   "execution_count": null,
   "id": "e34d6c5e",
   "metadata": {},
   "outputs": [],
   "source": []
  },
  {
   "cell_type": "code",
   "execution_count": null,
   "id": "e3a4b7f9",
   "metadata": {},
   "outputs": [],
   "source": []
  }
 ],
 "metadata": {
  "kernelspec": {
   "display_name": "Python 3",
   "language": "python",
   "name": "python3"
  },
  "language_info": {
   "codemirror_mode": {
    "name": "ipython",
    "version": 3
   },
   "file_extension": ".py",
   "mimetype": "text/x-python",
   "name": "python",
   "nbconvert_exporter": "python",
   "pygments_lexer": "ipython3",
   "version": "3.8.8"
  }
 },
 "nbformat": 4,
 "nbformat_minor": 5
}
